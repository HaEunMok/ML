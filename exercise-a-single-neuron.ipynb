{
 "cells": [
  {
   "cell_type": "markdown",
   "id": "e78d338c",
   "metadata": {
    "papermill": {
     "duration": 0.005519,
     "end_time": "2024-01-16T06:41:42.768081",
     "exception": false,
     "start_time": "2024-01-16T06:41:42.762562",
     "status": "completed"
    },
    "tags": []
   },
   "source": [
    "**This notebook is an exercise in the [Intro to Deep Learning](https://www.kaggle.com/learn/intro-to-deep-learning) course.  You can reference the tutorial at [this link](https://www.kaggle.com/ryanholbrook/a-single-neuron).**\n",
    "\n",
    "---\n"
   ]
  },
  {
   "cell_type": "markdown",
   "id": "f9ce5c29",
   "metadata": {
    "papermill": {
     "duration": 0.004825,
     "end_time": "2024-01-16T06:41:42.778690",
     "exception": false,
     "start_time": "2024-01-16T06:41:42.773865",
     "status": "completed"
    },
    "tags": []
   },
   "source": [
    "# Introduction #\n",
    "\n",
    "In the tutorial we learned about the building blocks of neural networks: *linear units*. We saw that a model of just one linear unit will fit a linear function to a dataset (equivalent to linear regression). In this exercise, you'll build a linear model and get some practice working with models in Keras.\n",
    "\n",
    "Before you get started, run the code cell below to set everything up."
   ]
  },
  {
   "cell_type": "code",
   "execution_count": 1,
   "id": "bf4e5faa",
   "metadata": {
    "execution": {
     "iopub.execute_input": "2024-01-16T06:41:42.790234Z",
     "iopub.status.busy": "2024-01-16T06:41:42.789722Z",
     "iopub.status.idle": "2024-01-16T06:41:57.109727Z",
     "shell.execute_reply": "2024-01-16T06:41:57.108787Z"
    },
    "papermill": {
     "duration": 14.329035,
     "end_time": "2024-01-16T06:41:57.112489",
     "exception": false,
     "start_time": "2024-01-16T06:41:42.783454",
     "status": "completed"
    },
    "tags": []
   },
   "outputs": [
    {
     "name": "stderr",
     "output_type": "stream",
     "text": [
      "/tmp/ipykernel_18/3895727876.py:4: MatplotlibDeprecationWarning: The seaborn styles shipped by Matplotlib are deprecated since 3.6, as they no longer correspond to the styles shipped by seaborn. However, they will remain available as 'seaborn-v0_8-<style>'. Alternatively, directly use the seaborn API instead.\n",
      "  plt.style.use('seaborn-whitegrid')\n"
     ]
    }
   ],
   "source": [
    "# Setup plotting\n",
    "import matplotlib.pyplot as plt\n",
    "\n",
    "plt.style.use('seaborn-whitegrid')\n",
    "# Set Matplotlib defaults\n",
    "plt.rc('figure', autolayout=True)\n",
    "plt.rc('axes', labelweight='bold', labelsize='large',\n",
    "       titleweight='bold', titlesize=18, titlepad=10)\n",
    "\n",
    "# Setup feedback system\n",
    "from learntools.core import binder\n",
    "binder.bind(globals())\n",
    "from learntools.deep_learning_intro.ex1 import *"
   ]
  },
  {
   "cell_type": "markdown",
   "id": "a1b2bcb7",
   "metadata": {
    "papermill": {
     "duration": 0.005209,
     "end_time": "2024-01-16T06:41:57.122858",
     "exception": false,
     "start_time": "2024-01-16T06:41:57.117649",
     "status": "completed"
    },
    "tags": []
   },
   "source": [
    "The *Red Wine Quality* dataset consists of physiochemical measurements from about 1600 Portuguese red wines.  Also included is a quality rating for each wine from blind taste-tests. \n",
    "\n",
    "First, run the next cell to display the first few rows of this dataset."
   ]
  },
  {
   "cell_type": "code",
   "execution_count": 2,
   "id": "057ba92d",
   "metadata": {
    "execution": {
     "iopub.execute_input": "2024-01-16T06:41:57.135767Z",
     "iopub.status.busy": "2024-01-16T06:41:57.134588Z",
     "iopub.status.idle": "2024-01-16T06:41:57.183235Z",
     "shell.execute_reply": "2024-01-16T06:41:57.182095Z"
    },
    "papermill": {
     "duration": 0.057351,
     "end_time": "2024-01-16T06:41:57.185517",
     "exception": false,
     "start_time": "2024-01-16T06:41:57.128166",
     "status": "completed"
    },
    "tags": []
   },
   "outputs": [
    {
     "data": {
      "text/html": [
       "<div>\n",
       "<style scoped>\n",
       "    .dataframe tbody tr th:only-of-type {\n",
       "        vertical-align: middle;\n",
       "    }\n",
       "\n",
       "    .dataframe tbody tr th {\n",
       "        vertical-align: top;\n",
       "    }\n",
       "\n",
       "    .dataframe thead th {\n",
       "        text-align: right;\n",
       "    }\n",
       "</style>\n",
       "<table border=\"1\" class=\"dataframe\">\n",
       "  <thead>\n",
       "    <tr style=\"text-align: right;\">\n",
       "      <th></th>\n",
       "      <th>fixed acidity</th>\n",
       "      <th>volatile acidity</th>\n",
       "      <th>citric acid</th>\n",
       "      <th>residual sugar</th>\n",
       "      <th>chlorides</th>\n",
       "      <th>free sulfur dioxide</th>\n",
       "      <th>total sulfur dioxide</th>\n",
       "      <th>density</th>\n",
       "      <th>pH</th>\n",
       "      <th>sulphates</th>\n",
       "      <th>alcohol</th>\n",
       "      <th>quality</th>\n",
       "    </tr>\n",
       "  </thead>\n",
       "  <tbody>\n",
       "    <tr>\n",
       "      <th>0</th>\n",
       "      <td>7.4</td>\n",
       "      <td>0.70</td>\n",
       "      <td>0.00</td>\n",
       "      <td>1.9</td>\n",
       "      <td>0.076</td>\n",
       "      <td>11.0</td>\n",
       "      <td>34.0</td>\n",
       "      <td>0.9978</td>\n",
       "      <td>3.51</td>\n",
       "      <td>0.56</td>\n",
       "      <td>9.4</td>\n",
       "      <td>5</td>\n",
       "    </tr>\n",
       "    <tr>\n",
       "      <th>1</th>\n",
       "      <td>7.8</td>\n",
       "      <td>0.88</td>\n",
       "      <td>0.00</td>\n",
       "      <td>2.6</td>\n",
       "      <td>0.098</td>\n",
       "      <td>25.0</td>\n",
       "      <td>67.0</td>\n",
       "      <td>0.9968</td>\n",
       "      <td>3.20</td>\n",
       "      <td>0.68</td>\n",
       "      <td>9.8</td>\n",
       "      <td>5</td>\n",
       "    </tr>\n",
       "    <tr>\n",
       "      <th>2</th>\n",
       "      <td>7.8</td>\n",
       "      <td>0.76</td>\n",
       "      <td>0.04</td>\n",
       "      <td>2.3</td>\n",
       "      <td>0.092</td>\n",
       "      <td>15.0</td>\n",
       "      <td>54.0</td>\n",
       "      <td>0.9970</td>\n",
       "      <td>3.26</td>\n",
       "      <td>0.65</td>\n",
       "      <td>9.8</td>\n",
       "      <td>5</td>\n",
       "    </tr>\n",
       "    <tr>\n",
       "      <th>3</th>\n",
       "      <td>11.2</td>\n",
       "      <td>0.28</td>\n",
       "      <td>0.56</td>\n",
       "      <td>1.9</td>\n",
       "      <td>0.075</td>\n",
       "      <td>17.0</td>\n",
       "      <td>60.0</td>\n",
       "      <td>0.9980</td>\n",
       "      <td>3.16</td>\n",
       "      <td>0.58</td>\n",
       "      <td>9.8</td>\n",
       "      <td>6</td>\n",
       "    </tr>\n",
       "    <tr>\n",
       "      <th>4</th>\n",
       "      <td>7.4</td>\n",
       "      <td>0.70</td>\n",
       "      <td>0.00</td>\n",
       "      <td>1.9</td>\n",
       "      <td>0.076</td>\n",
       "      <td>11.0</td>\n",
       "      <td>34.0</td>\n",
       "      <td>0.9978</td>\n",
       "      <td>3.51</td>\n",
       "      <td>0.56</td>\n",
       "      <td>9.4</td>\n",
       "      <td>5</td>\n",
       "    </tr>\n",
       "  </tbody>\n",
       "</table>\n",
       "</div>"
      ],
      "text/plain": [
       "   fixed acidity  volatile acidity  citric acid  residual sugar  chlorides  \\\n",
       "0            7.4              0.70         0.00             1.9      0.076   \n",
       "1            7.8              0.88         0.00             2.6      0.098   \n",
       "2            7.8              0.76         0.04             2.3      0.092   \n",
       "3           11.2              0.28         0.56             1.9      0.075   \n",
       "4            7.4              0.70         0.00             1.9      0.076   \n",
       "\n",
       "   free sulfur dioxide  total sulfur dioxide  density    pH  sulphates  \\\n",
       "0                 11.0                  34.0   0.9978  3.51       0.56   \n",
       "1                 25.0                  67.0   0.9968  3.20       0.68   \n",
       "2                 15.0                  54.0   0.9970  3.26       0.65   \n",
       "3                 17.0                  60.0   0.9980  3.16       0.58   \n",
       "4                 11.0                  34.0   0.9978  3.51       0.56   \n",
       "\n",
       "   alcohol  quality  \n",
       "0      9.4        5  \n",
       "1      9.8        5  \n",
       "2      9.8        5  \n",
       "3      9.8        6  \n",
       "4      9.4        5  "
      ]
     },
     "execution_count": 2,
     "metadata": {},
     "output_type": "execute_result"
    }
   ],
   "source": [
    "import pandas as pd\n",
    "\n",
    "red_wine = pd.read_csv('../input/dl-course-data/red-wine.csv')\n",
    "red_wine.head()"
   ]
  },
  {
   "cell_type": "markdown",
   "id": "b12578d8",
   "metadata": {
    "papermill": {
     "duration": 0.004965,
     "end_time": "2024-01-16T06:41:57.195664",
     "exception": false,
     "start_time": "2024-01-16T06:41:57.190699",
     "status": "completed"
    },
    "tags": []
   },
   "source": [
    "You can get the number of rows and columns of a dataframe (or a Numpy array) with the `shape` attribute."
   ]
  },
  {
   "cell_type": "code",
   "execution_count": 3,
   "id": "7cdb6e9d",
   "metadata": {
    "execution": {
     "iopub.execute_input": "2024-01-16T06:41:57.207835Z",
     "iopub.status.busy": "2024-01-16T06:41:57.207174Z",
     "iopub.status.idle": "2024-01-16T06:41:57.213889Z",
     "shell.execute_reply": "2024-01-16T06:41:57.212850Z"
    },
    "papermill": {
     "duration": 0.015154,
     "end_time": "2024-01-16T06:41:57.215861",
     "exception": false,
     "start_time": "2024-01-16T06:41:57.200707",
     "status": "completed"
    },
    "tags": []
   },
   "outputs": [
    {
     "data": {
      "text/plain": [
       "(1599, 12)"
      ]
     },
     "execution_count": 3,
     "metadata": {},
     "output_type": "execute_result"
    }
   ],
   "source": [
    "red_wine.shape # (rows, columns)"
   ]
  },
  {
   "cell_type": "markdown",
   "id": "1544af0b",
   "metadata": {
    "papermill": {
     "duration": 0.004981,
     "end_time": "2024-01-16T06:41:57.226198",
     "exception": false,
     "start_time": "2024-01-16T06:41:57.221217",
     "status": "completed"
    },
    "tags": []
   },
   "source": [
    "# 1) Input shape #\n",
    "\n",
    "How well can we predict a wine's perceived quality from the physiochemical measurements?  \n",
    "\n",
    "The target is `'quality'`, and the remaining columns are the features.  How would you set the `input_shape` parameter for a Keras model on this task?"
   ]
  },
  {
   "cell_type": "code",
   "execution_count": 4,
   "id": "6f9aa34e",
   "metadata": {
    "execution": {
     "iopub.execute_input": "2024-01-16T06:41:57.239166Z",
     "iopub.status.busy": "2024-01-16T06:41:57.238024Z",
     "iopub.status.idle": "2024-01-16T06:41:57.247117Z",
     "shell.execute_reply": "2024-01-16T06:41:57.246179Z"
    },
    "lines_to_next_cell": 0,
    "papermill": {
     "duration": 0.017804,
     "end_time": "2024-01-16T06:41:57.249138",
     "exception": false,
     "start_time": "2024-01-16T06:41:57.231334",
     "status": "completed"
    },
    "tags": []
   },
   "outputs": [
    {
     "data": {
      "application/javascript": [
       "parent.postMessage({\"jupyterEvent\": \"custom.exercise_interaction\", \"data\": {\"outcomeType\": 1, \"valueTowardsCompletion\": 0.3333333333333333, \"interactionType\": 1, \"questionType\": 2, \"questionId\": \"1_Q1\", \"learnToolsVersion\": \"0.3.4\", \"failureMessage\": \"\", \"exceptionClass\": \"\", \"trace\": \"\"}}, \"*\")"
      ],
      "text/plain": [
       "<IPython.core.display.Javascript object>"
      ]
     },
     "metadata": {},
     "output_type": "display_data"
    },
    {
     "data": {
      "text/markdown": [
       "<span style=\"color:#33cc33\">Correct</span>"
      ],
      "text/plain": [
       "Correct"
      ]
     },
     "metadata": {},
     "output_type": "display_data"
    }
   ],
   "source": [
    "# YOUR CODE HERE\n",
    "input_shape =[11]\n",
    "\n",
    "# Check your answer\n",
    "q_1.check()"
   ]
  },
  {
   "cell_type": "code",
   "execution_count": 5,
   "id": "ca5e698d",
   "metadata": {
    "execution": {
     "iopub.execute_input": "2024-01-16T06:41:57.262860Z",
     "iopub.status.busy": "2024-01-16T06:41:57.261970Z",
     "iopub.status.idle": "2024-01-16T06:41:57.267005Z",
     "shell.execute_reply": "2024-01-16T06:41:57.265950Z"
    },
    "papermill": {
     "duration": 0.014141,
     "end_time": "2024-01-16T06:41:57.269181",
     "exception": false,
     "start_time": "2024-01-16T06:41:57.255040",
     "status": "completed"
    },
    "tags": []
   },
   "outputs": [],
   "source": [
    "# Lines below will give you a hint or solution code\n",
    "#q_1.hint()\n",
    "#q_1.solution()"
   ]
  },
  {
   "cell_type": "markdown",
   "id": "4bbe819a",
   "metadata": {
    "papermill": {
     "duration": 0.005539,
     "end_time": "2024-01-16T06:41:57.280310",
     "exception": false,
     "start_time": "2024-01-16T06:41:57.274771",
     "status": "completed"
    },
    "tags": []
   },
   "source": [
    "# 2) Define a linear model\n",
    "\n",
    "Now define a linear model appropriate for this task. Pay attention to how many inputs and outputs the model should have."
   ]
  },
  {
   "cell_type": "code",
   "execution_count": 6,
   "id": "f79c1c91",
   "metadata": {
    "execution": {
     "iopub.execute_input": "2024-01-16T06:41:57.293715Z",
     "iopub.status.busy": "2024-01-16T06:41:57.292626Z",
     "iopub.status.idle": "2024-01-16T06:41:57.599902Z",
     "shell.execute_reply": "2024-01-16T06:41:57.598658Z"
    },
    "lines_to_next_cell": 0,
    "papermill": {
     "duration": 0.316713,
     "end_time": "2024-01-16T06:41:57.602555",
     "exception": false,
     "start_time": "2024-01-16T06:41:57.285842",
     "status": "completed"
    },
    "tags": []
   },
   "outputs": [
    {
     "data": {
      "application/javascript": [
       "parent.postMessage({\"jupyterEvent\": \"custom.exercise_interaction\", \"data\": {\"outcomeType\": 1, \"valueTowardsCompletion\": 0.3333333333333333, \"interactionType\": 1, \"questionType\": 2, \"questionId\": \"2_Q2\", \"learnToolsVersion\": \"0.3.4\", \"failureMessage\": \"\", \"exceptionClass\": \"\", \"trace\": \"\"}}, \"*\")"
      ],
      "text/plain": [
       "<IPython.core.display.Javascript object>"
      ]
     },
     "metadata": {},
     "output_type": "display_data"
    },
    {
     "data": {
      "text/markdown": [
       "<span style=\"color:#33cc33\">Correct</span>"
      ],
      "text/plain": [
       "Correct"
      ]
     },
     "metadata": {},
     "output_type": "display_data"
    }
   ],
   "source": [
    "from tensorflow import keras\n",
    "from tensorflow.keras import layers\n",
    "\n",
    "# YOUR CODE HERE\n",
    "model = keras.Sequential()\n",
    "model.add(keras.layers.Dense(units=1, input_shape=input_shape))\n",
    "\n",
    "\n",
    "# Check your answer\n",
    "q_2.check()"
   ]
  },
  {
   "cell_type": "markdown",
   "id": "d4e9c9b4",
   "metadata": {
    "papermill": {
     "duration": 0.006406,
     "end_time": "2024-01-16T06:41:57.614936",
     "exception": false,
     "start_time": "2024-01-16T06:41:57.608530",
     "status": "completed"
    },
    "tags": []
   },
   "source": []
  },
  {
   "cell_type": "code",
   "execution_count": 7,
   "id": "4d0e720d",
   "metadata": {
    "execution": {
     "iopub.execute_input": "2024-01-16T06:41:57.628194Z",
     "iopub.status.busy": "2024-01-16T06:41:57.627770Z",
     "iopub.status.idle": "2024-01-16T06:41:57.632141Z",
     "shell.execute_reply": "2024-01-16T06:41:57.631175Z"
    },
    "papermill": {
     "duration": 0.013731,
     "end_time": "2024-01-16T06:41:57.634357",
     "exception": false,
     "start_time": "2024-01-16T06:41:57.620626",
     "status": "completed"
    },
    "tags": []
   },
   "outputs": [],
   "source": [
    "# Lines below will give you a hint or solution code\n",
    "#q_2.hint()\n",
    "#q_2.solution()"
   ]
  },
  {
   "cell_type": "markdown",
   "id": "0ac92a47",
   "metadata": {
    "papermill": {
     "duration": 0.005545,
     "end_time": "2024-01-16T06:41:57.645984",
     "exception": false,
     "start_time": "2024-01-16T06:41:57.640439",
     "status": "completed"
    },
    "tags": []
   },
   "source": [
    "# 3) Look at the weights\n",
    "\n",
    "Internally, Keras represents the weights of a neural network with **tensors**. Tensors are basically TensorFlow's version of a Numpy array with a few differences that make them better suited to deep learning. One of the most important is that tensors are compatible with [GPU](https://www.kaggle.com/docs/efficient-gpu-usage) and [TPU](https://www.kaggle.com/docs/tpu)) accelerators. TPUs, in fact, are designed specifically for tensor computations.\n",
    "\n",
    "A model's weights are kept in its `weights` attribute as a list of tensors. Get the weights of the model you defined above. (If you want, you could display the weights with something like: `print(\"Weights\\n{}\\n\\nBias\\n{}\".format(w, b))`)."
   ]
  },
  {
   "cell_type": "code",
   "execution_count": 8,
   "id": "004dbef6",
   "metadata": {
    "execution": {
     "iopub.execute_input": "2024-01-16T06:41:57.659147Z",
     "iopub.status.busy": "2024-01-16T06:41:57.658692Z",
     "iopub.status.idle": "2024-01-16T06:41:57.673656Z",
     "shell.execute_reply": "2024-01-16T06:41:57.672765Z"
    },
    "lines_to_next_cell": 0,
    "papermill": {
     "duration": 0.024077,
     "end_time": "2024-01-16T06:41:57.675731",
     "exception": false,
     "start_time": "2024-01-16T06:41:57.651654",
     "status": "completed"
    },
    "tags": []
   },
   "outputs": [
    {
     "name": "stdout",
     "output_type": "stream",
     "text": [
      "Weights\n",
      "<tf.Variable 'dense/kernel:0' shape=(11, 1) dtype=float32, numpy=\n",
      "array([[ 0.5841895 ],\n",
      "       [-0.12607169],\n",
      "       [ 0.35063905],\n",
      "       [ 0.34118885],\n",
      "       [ 0.20520812],\n",
      "       [-0.46509838],\n",
      "       [ 0.02001804],\n",
      "       [-0.4526671 ],\n",
      "       [-0.31116176],\n",
      "       [ 0.17180574],\n",
      "       [-0.24643448]], dtype=float32)>\n",
      "\n",
      "Bias\n",
      "<tf.Variable 'dense/bias:0' shape=(1,) dtype=float32, numpy=array([0.], dtype=float32)>\n"
     ]
    },
    {
     "data": {
      "application/javascript": [
       "parent.postMessage({\"jupyterEvent\": \"custom.exercise_interaction\", \"data\": {\"outcomeType\": 1, \"valueTowardsCompletion\": 0.3333333333333333, \"interactionType\": 1, \"questionType\": 2, \"questionId\": \"3_Q3\", \"learnToolsVersion\": \"0.3.4\", \"failureMessage\": \"\", \"exceptionClass\": \"\", \"trace\": \"\"}}, \"*\")"
      ],
      "text/plain": [
       "<IPython.core.display.Javascript object>"
      ]
     },
     "metadata": {},
     "output_type": "display_data"
    },
    {
     "data": {
      "text/markdown": [
       "<span style=\"color:#33cc33\">Correct:</span> Do you see how there's one weight for each input (and a bias)? Notice though that there doesn't seem to be any pattern to the values the weights have. Before the model is trained, the weights are set to random numbers (and the bias to 0.0). A neural network learns by finding better values for its weights.\n"
      ],
      "text/plain": [
       "Correct: Do you see how there's one weight for each input (and a bias)? Notice though that there doesn't seem to be any pattern to the values the weights have. Before the model is trained, the weights are set to random numbers (and the bias to 0.0). A neural network learns by finding better values for its weights."
      ]
     },
     "metadata": {},
     "output_type": "display_data"
    }
   ],
   "source": [
    "# YOUR CODE HERE\n",
    "w, b = model.weights\n",
    "print(\"Weights\\n{}\\n\\nBias\\n{}\".format(w, b))\n",
    "# Check your answer\n",
    "q_3.check()"
   ]
  },
  {
   "cell_type": "code",
   "execution_count": 9,
   "id": "6d863982",
   "metadata": {
    "execution": {
     "iopub.execute_input": "2024-01-16T06:41:57.690862Z",
     "iopub.status.busy": "2024-01-16T06:41:57.690229Z",
     "iopub.status.idle": "2024-01-16T06:41:57.694672Z",
     "shell.execute_reply": "2024-01-16T06:41:57.693429Z"
    },
    "lines_to_next_cell": 0,
    "papermill": {
     "duration": 0.015124,
     "end_time": "2024-01-16T06:41:57.697013",
     "exception": false,
     "start_time": "2024-01-16T06:41:57.681889",
     "status": "completed"
    },
    "tags": []
   },
   "outputs": [],
   "source": [
    "# Lines below will give you a hint or solution code\n",
    "#q_3.hint()\n",
    "#q_3.solution()"
   ]
  },
  {
   "cell_type": "markdown",
   "id": "f6cdeab0",
   "metadata": {
    "papermill": {
     "duration": 0.005842,
     "end_time": "2024-01-16T06:41:57.709079",
     "exception": false,
     "start_time": "2024-01-16T06:41:57.703237",
     "status": "completed"
    },
    "tags": []
   },
   "source": [
    "(By the way, Keras represents weights as tensors, but also uses tensors to represent data. When you set the `input_shape` argument, you are telling Keras the dimensions of the array it should expect for each example in the training data. Setting `input_shape=[3]` would create a network accepting vectors of length 3, like `[0.2, 0.4, 0.6]`.)\n",
    " \n",
    "\n",
    "# Optional: Plot the output of an untrained linear model\n",
    " \n",
    "The kinds of problems we'll work on through Lesson 5 will be *regression* problems, where the goal is to predict some numeric target. Regression problems are like \"curve-fitting\" problems: we're trying to find a curve that best fits the data. Let's take a look at the \"curve\" produced by a linear model. (You've probably guessed that it's a line!)\n",
    " \n",
    "We mentioned that before training a model's weights are set randomly. Run the cell below a few times to see the different lines produced with a random initialization. (There's no coding for this exercise -- it's just a demonstration.)"
   ]
  },
  {
   "cell_type": "code",
   "execution_count": 10,
   "id": "1527f59f",
   "metadata": {
    "execution": {
     "iopub.execute_input": "2024-01-16T06:41:57.723909Z",
     "iopub.status.busy": "2024-01-16T06:41:57.723144Z",
     "iopub.status.idle": "2024-01-16T06:41:58.520467Z",
     "shell.execute_reply": "2024-01-16T06:41:58.519083Z"
    },
    "lines_to_next_cell": 0,
    "papermill": {
     "duration": 0.808037,
     "end_time": "2024-01-16T06:41:58.523242",
     "exception": false,
     "start_time": "2024-01-16T06:41:57.715205",
     "status": "completed"
    },
    "tags": []
   },
   "outputs": [
    {
     "name": "stdout",
     "output_type": "stream",
     "text": [
      "4/4 [==============================] - 0s 3ms/step\n"
     ]
    },
    {
     "data": {
      "image/png": "[encoded data removed]",
      "text/plain": [
       "<Figure size 640x480 with 1 Axes>"
      ]
     },
     "metadata": {},
     "output_type": "display_data"
    }
   ],
   "source": [
    "import tensorflow as tf\n",
    "import matplotlib.pyplot as plt\n",
    "\n",
    "model = keras.Sequential([\n",
    "    layers.Dense(1, input_shape=[1]),\n",
    "])\n",
    "\n",
    "x = tf.linspace(-1.0, 1.0, 100)\n",
    "y = model.predict(x)\n",
    "\n",
    "plt.figure(dpi=100)\n",
    "plt.plot(x, y, 'k')\n",
    "plt.xlim(-1, 1)\n",
    "plt.ylim(-1, 1)\n",
    "plt.xlabel(\"Input: x\")\n",
    "plt.ylabel(\"Target y\")\n",
    "w, b = model.weights # you could also use model.get_weights() here\n",
    "plt.title(\"Weight: {:0.2f}\\nBias: {:0.2f}\".format(w[0][0], b[0]))\n",
    "plt.show()"
   ]
  },
  {
   "cell_type": "markdown",
   "id": "f289733e",
   "metadata": {
    "papermill": {
     "duration": 0.006468,
     "end_time": "2024-01-16T06:41:58.536811",
     "exception": false,
     "start_time": "2024-01-16T06:41:58.530343",
     "status": "completed"
    },
    "tags": []
   },
   "source": [
    "# Keep Going #\n",
    "\n",
    "Add hidden layers and [**make your models deep**](https://www.kaggle.com/ryanholbrook/deep-neural-networks) in Lesson 2."
   ]
  },
  {
   "cell_type": "markdown",
   "id": "52c2fb42",
   "metadata": {
    "papermill": {
     "duration": 0.006534,
     "end_time": "2024-01-16T06:41:58.550216",
     "exception": false,
     "start_time": "2024-01-16T06:41:58.543682",
     "status": "completed"
    },
    "tags": []
   },
   "source": [
    "---\n",
    "\n",
    "\n",
    "\n",
    "\n",
    "*Have questions or comments? Visit the [course discussion forum](https://www.kaggle.com/learn/intro-to-deep-learning/discussion) to chat with other learners.*"
   ]
  }
 ],
 "metadata": {
  "jupytext": {
   "cell_metadata_filter": "-all",
   "formats": "ipynb"
  },
  "kaggle": {
   "accelerator": "none",
   "dataSources": [
    {
     "datasetId": 829369,
     "sourceId": 1480608,
     "sourceType": "datasetVersion"
    }
   ],
   "isGpuEnabled": false,
   "isInternetEnabled": false,
   "language": "python",
   "sourceType": "notebook"
  },
  "kernelspec": {
   "display_name": "Python 3",
   "language": "python",
   "name": "python3"
  },
  "language_info": {
   "codemirror_mode": {
    "name": "ipython",
    "version": 3
   },
   "file_extension": ".py",
   "mimetype": "text/x-python",
   "name": "python",
   "nbconvert_exporter": "python",
   "pygments_lexer": "ipython3",
   "version": "3.10.12"
  },
  "papermill": {
   "default_parameters": {},
   "duration": 20.325784,
   "end_time": "2024-01-16T06:41:59.980283",
   "environment_variables": {},
   "exception": null,
   "input_path": "__notebook__.ipynb",
   "output_path": "__notebook__.ipynb",
   "parameters": {},
   "start_time": "2024-01-16T06:41:39.654499",
   "version": "2.4.0"
  }
 },
 "nbformat": 4,
 "nbformat_minor": 5
}
