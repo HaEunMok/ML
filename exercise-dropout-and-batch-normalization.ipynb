{
 "cells": [
  {
   "cell_type": "markdown",
   "id": "45507fc5",
   "metadata": {
    "papermill": {
     "duration": 0.005158,
     "end_time": "2024-01-23T02:34:07.670437",
     "exception": false,
     "start_time": "2024-01-23T02:34:07.665279",
     "status": "completed"
    },
    "tags": []
   },
   "source": [
    "**This notebook is an exercise in the [Intro to Deep Learning](https://www.kaggle.com/learn/intro-to-deep-learning) course.  You can reference the tutorial at [this link](https://www.kaggle.com/ryanholbrook/dropout-and-batch-normalization).**\n",
    "\n",
    "---\n"
   ]
  },
  {
   "cell_type": "markdown",
   "id": "e661eca0",
   "metadata": {
    "papermill": {
     "duration": 0.004237,
     "end_time": "2024-01-23T02:34:07.679242",
     "exception": false,
     "start_time": "2024-01-23T02:34:07.675005",
     "status": "completed"
    },
    "tags": []
   },
   "source": [
    "# Introduction #\n",
    "\n",
    "In this exercise, you'll add dropout to the *Spotify* model from Exercise 4 and see how batch normalization can let you successfully train models on difficult datasets.\n",
    "\n",
    "Run the next cell to get started!"
   ]
  },
  {
   "cell_type": "code",
   "execution_count": 1,
   "id": "d8f86030",
   "metadata": {
    "execution": {
     "iopub.execute_input": "2024-01-23T02:34:07.690258Z",
     "iopub.status.busy": "2024-01-23T02:34:07.689640Z",
     "iopub.status.idle": "2024-01-23T02:34:08.030157Z",
     "shell.execute_reply": "2024-01-23T02:34:08.029139Z"
    },
    "papermill": {
     "duration": 0.348565,
     "end_time": "2024-01-23T02:34:08.032316",
     "exception": false,
     "start_time": "2024-01-23T02:34:07.683751",
     "status": "completed"
    },
    "tags": []
   },
   "outputs": [
    {
     "name": "stderr",
     "output_type": "stream",
     "text": [
      "/tmp/ipykernel_18/195640296.py:3: MatplotlibDeprecationWarning: The seaborn styles shipped by Matplotlib are deprecated since 3.6, as they no longer correspond to the styles shipped by seaborn. However, they will remain available as 'seaborn-v0_8-<style>'. Alternatively, directly use the seaborn API instead.\n",
      "  plt.style.use('seaborn-whitegrid')\n"
     ]
    }
   ],
   "source": [
    "# Setup plotting\n",
    "import matplotlib.pyplot as plt\n",
    "plt.style.use('seaborn-whitegrid')\n",
    "# Set Matplotlib defaults\n",
    "plt.rc('figure', autolayout=True)\n",
    "plt.rc('axes', labelweight='bold', labelsize='large',\n",
    "       titleweight='bold', titlesize=18, titlepad=10)\n",
    "plt.rc('animation', html='html5')\n",
    "\n",
    "# Setup feedback system\n",
    "from learntools.core import binder\n",
    "binder.bind(globals())\n",
    "from learntools.deep_learning_intro.ex5 import *"
   ]
  },
  {
   "cell_type": "markdown",
   "id": "966011c5",
   "metadata": {
    "papermill": {
     "duration": 0.004563,
     "end_time": "2024-01-23T02:34:08.041919",
     "exception": false,
     "start_time": "2024-01-23T02:34:08.037356",
     "status": "completed"
    },
    "tags": []
   },
   "source": [
    "First load the *Spotify* dataset."
   ]
  },
  {
   "cell_type": "code",
   "execution_count": 2,
   "id": "eed0ffb9",
   "metadata": {
    "execution": {
     "iopub.execute_input": "2024-01-23T02:34:08.053451Z",
     "iopub.status.busy": "2024-01-23T02:34:08.052844Z",
     "iopub.status.idle": "2024-01-23T02:34:22.289039Z",
     "shell.execute_reply": "2024-01-23T02:34:22.288030Z"
    },
    "papermill": {
     "duration": 14.244655,
     "end_time": "2024-01-23T02:34:22.291270",
     "exception": false,
     "start_time": "2024-01-23T02:34:08.046615",
     "status": "completed"
    },
    "tags": []
   },
   "outputs": [
    {
     "name": "stdout",
     "output_type": "stream",
     "text": [
      "Input shape: [18]\n"
     ]
    }
   ],
   "source": [
    "import pandas as pd\n",
    "from sklearn.preprocessing import StandardScaler, OneHotEncoder\n",
    "from sklearn.compose import make_column_transformer\n",
    "from sklearn.model_selection import GroupShuffleSplit\n",
    "\n",
    "from tensorflow import keras\n",
    "from tensorflow.keras import layers\n",
    "from tensorflow.keras import callbacks\n",
    "\n",
    "spotify = pd.read_csv('../input/dl-course-data/spotify.csv')\n",
    "\n",
    "X = spotify.copy().dropna()\n",
    "y = X.pop('track_popularity')\n",
    "artists = X['track_artist']\n",
    "\n",
    "features_num = ['danceability', 'energy', 'key', 'loudness', 'mode',\n",
    "                'speechiness', 'acousticness', 'instrumentalness',\n",
    "                'liveness', 'valence', 'tempo', 'duration_ms']\n",
    "features_cat = ['playlist_genre']\n",
    "\n",
    "preprocessor = make_column_transformer(\n",
    "    (StandardScaler(), features_num),\n",
    "    (OneHotEncoder(), features_cat),\n",
    ")\n",
    "\n",
    "def group_split(X, y, group, train_size=0.75):\n",
    "    splitter = GroupShuffleSplit(train_size=train_size)\n",
    "    train, test = next(splitter.split(X, y, groups=group))\n",
    "    return (X.iloc[train], X.iloc[test], y.iloc[train], y.iloc[test])\n",
    "\n",
    "X_train, X_valid, y_train, y_valid = group_split(X, y, artists)\n",
    "\n",
    "X_train = preprocessor.fit_transform(X_train)\n",
    "X_valid = preprocessor.transform(X_valid)\n",
    "y_train = y_train / 100\n",
    "y_valid = y_valid / 100\n",
    "\n",
    "input_shape = [X_train.shape[1]]\n",
    "print(\"Input shape: {}\".format(input_shape))"
   ]
  },
  {
   "cell_type": "markdown",
   "id": "4ab07c9f",
   "metadata": {
    "papermill": {
     "duration": 0.005103,
     "end_time": "2024-01-23T02:34:22.301591",
     "exception": false,
     "start_time": "2024-01-23T02:34:22.296488",
     "status": "completed"
    },
    "tags": []
   },
   "source": [
    "# 1) Add Dropout to Spotify Model\n",
    "\n",
    "Here is the last model from Exercise 4. Add two dropout layers, one after the `Dense` layer with 128 units, and one after the `Dense` layer with 64 units. Set the dropout rate on both to `0.3`."
   ]
  },
  {
   "cell_type": "code",
   "execution_count": 3,
   "id": "1af6243d",
   "metadata": {
    "execution": {
     "iopub.execute_input": "2024-01-23T02:34:22.314310Z",
     "iopub.status.busy": "2024-01-23T02:34:22.312806Z",
     "iopub.status.idle": "2024-01-23T02:34:22.498111Z",
     "shell.execute_reply": "2024-01-23T02:34:22.497088Z"
    },
    "lines_to_next_cell": 2,
    "papermill": {
     "duration": 0.193378,
     "end_time": "2024-01-23T02:34:22.499940",
     "exception": false,
     "start_time": "2024-01-23T02:34:22.306562",
     "status": "completed"
    },
    "tags": []
   },
   "outputs": [
    {
     "data": {
      "application/javascript": [
       "parent.postMessage({\"jupyterEvent\": \"custom.exercise_interaction\", \"data\": {\"outcomeType\": 1, \"valueTowardsCompletion\": 0.25, \"interactionType\": 1, \"questionType\": 2, \"questionId\": \"1_Q1\", \"learnToolsVersion\": \"0.3.4\", \"failureMessage\": \"\", \"exceptionClass\": \"\", \"trace\": \"\"}}, \"*\")"
      ],
      "text/plain": [
       "<IPython.core.display.Javascript object>"
      ]
     },
     "metadata": {},
     "output_type": "display_data"
    },
    {
     "data": {
      "text/markdown": [
       "<span style=\"color:#33cc33\">Correct</span>"
      ],
      "text/plain": [
       "Correct"
      ]
     },
     "metadata": {},
     "output_type": "display_data"
    }
   ],
   "source": [
    "# YOUR CODE HERE: Add two 30% dropout layers, one after 128 and one after 64\n",
    "model = keras.Sequential([\n",
    "    layers.Dense(128, activation='relu', input_shape=input_shape),\n",
    "    layers.Dropout(0.3),\n",
    "    layers.Dense(64, activation='relu'),\n",
    "    layers.Dropout(0.3),\n",
    "    layers.Dense(1)\n",
    "])\n",
    "\n",
    "# Check your answer\n",
    "q_1.check()"
   ]
  },
  {
   "cell_type": "code",
   "execution_count": 4,
   "id": "3d5225b0",
   "metadata": {
    "execution": {
     "iopub.execute_input": "2024-01-23T02:34:22.512030Z",
     "iopub.status.busy": "2024-01-23T02:34:22.511644Z",
     "iopub.status.idle": "2024-01-23T02:34:22.516578Z",
     "shell.execute_reply": "2024-01-23T02:34:22.515166Z"
    },
    "papermill": {
     "duration": 0.013517,
     "end_time": "2024-01-23T02:34:22.518963",
     "exception": false,
     "start_time": "2024-01-23T02:34:22.505446",
     "status": "completed"
    },
    "tags": []
   },
   "outputs": [],
   "source": [
    "# Lines below will give you a hint or solution code\n",
    "#q_1.hint()\n",
    "#q_1.solution()"
   ]
  },
  {
   "cell_type": "markdown",
   "id": "44d8b2cc",
   "metadata": {
    "papermill": {
     "duration": 0.004983,
     "end_time": "2024-01-23T02:34:22.529586",
     "exception": false,
     "start_time": "2024-01-23T02:34:22.524603",
     "status": "completed"
    },
    "tags": []
   },
   "source": [
    "Now run this next cell to train the model see the effect of adding dropout."
   ]
  },
  {
   "cell_type": "code",
   "execution_count": 5,
   "id": "aa1d614d",
   "metadata": {
    "execution": {
     "iopub.execute_input": "2024-01-23T02:34:22.541645Z",
     "iopub.status.busy": "2024-01-23T02:34:22.541141Z",
     "iopub.status.idle": "2024-01-23T02:34:44.139965Z",
     "shell.execute_reply": "2024-01-23T02:34:44.139123Z"
    },
    "papermill": {
     "duration": 21.607043,
     "end_time": "2024-01-23T02:34:44.141752",
     "exception": false,
     "start_time": "2024-01-23T02:34:22.534709",
     "status": "completed"
    },
    "tags": []
   },
   "outputs": [
    {
     "name": "stdout",
     "output_type": "stream",
     "text": [
      "Minimum Validation Loss: 0.1886\n"
     ]
    },
    {
     "data": {
      "image/png": "[encoded data removed]",
      "text/plain": [
       "<Figure size 640x480 with 1 Axes>"
      ]
     },
     "metadata": {},
     "output_type": "display_data"
    }
   ],
   "source": [
    "model.compile(\n",
    "    optimizer='adam',\n",
    "    loss='mae',\n",
    ")\n",
    "history = model.fit(\n",
    "    X_train, y_train,\n",
    "    validation_data=(X_valid, y_valid),\n",
    "    batch_size=512,\n",
    "    epochs=50,\n",
    "    verbose=0,\n",
    ")\n",
    "history_df = pd.DataFrame(history.history)\n",
    "history_df.loc[:, ['loss', 'val_loss']].plot()\n",
    "print(\"Minimum Validation Loss: {:0.4f}\".format(history_df['val_loss'].min()))"
   ]
  },
  {
   "cell_type": "markdown",
   "id": "1ea69b8e",
   "metadata": {
    "papermill": {
     "duration": 0.005712,
     "end_time": "2024-01-23T02:34:44.154283",
     "exception": false,
     "start_time": "2024-01-23T02:34:44.148571",
     "status": "completed"
    },
    "tags": []
   },
   "source": [
    "# 2) Evaluate Dropout\n",
    "\n",
    "Recall from Exercise 4 that this model tended to overfit the data around epoch 5. Did adding dropout seem to help prevent overfitting this time?"
   ]
  },
  {
   "cell_type": "code",
   "execution_count": 6,
   "id": "a20402ab",
   "metadata": {
    "execution": {
     "iopub.execute_input": "2024-01-23T02:34:44.168169Z",
     "iopub.status.busy": "2024-01-23T02:34:44.167517Z",
     "iopub.status.idle": "2024-01-23T02:34:44.174711Z",
     "shell.execute_reply": "2024-01-23T02:34:44.173843Z"
    },
    "papermill": {
     "duration": 0.016774,
     "end_time": "2024-01-23T02:34:44.176914",
     "exception": false,
     "start_time": "2024-01-23T02:34:44.160140",
     "status": "completed"
    },
    "tags": []
   },
   "outputs": [
    {
     "data": {
      "application/javascript": [
       "parent.postMessage({\"jupyterEvent\": \"custom.exercise_interaction\", \"data\": {\"outcomeType\": 1, \"valueTowardsCompletion\": 0.25, \"interactionType\": 1, \"questionType\": 4, \"questionId\": \"2_Q2\", \"learnToolsVersion\": \"0.3.4\", \"failureMessage\": \"\", \"exceptionClass\": \"\", \"trace\": \"\"}}, \"*\")"
      ],
      "text/plain": [
       "<IPython.core.display.Javascript object>"
      ]
     },
     "metadata": {},
     "output_type": "display_data"
    },
    {
     "data": {
      "text/markdown": [
       "<span style=\"color:#33cc33\">Correct:</span> \n",
       "\n",
       "\n",
       "From the learning curves, you can see that the validation loss remains near a constant minimum even though the training loss continues to decrease. So we can see that adding dropout did prevent overfitting this time. Moreover, by making it harder for the network to fit spurious patterns, dropout may have encouraged the network to seek out more of the true patterns, possibly improving the validation loss some as well).\n"
      ],
      "text/plain": [
       "Correct: \n",
       "\n",
       "\n",
       "From the learning curves, you can see that the validation loss remains near a constant minimum even though the training loss continues to decrease. So we can see that adding dropout did prevent overfitting this time. Moreover, by making it harder for the network to fit spurious patterns, dropout may have encouraged the network to seek out more of the true patterns, possibly improving the validation loss some as well)."
      ]
     },
     "metadata": {},
     "output_type": "display_data"
    }
   ],
   "source": [
    "# View the solution (Run this cell to receive credit!)\n",
    "q_2.check()"
   ]
  },
  {
   "cell_type": "markdown",
   "id": "a9b33abc",
   "metadata": {
    "papermill": {
     "duration": 0.005544,
     "end_time": "2024-01-23T02:34:44.188463",
     "exception": false,
     "start_time": "2024-01-23T02:34:44.182919",
     "status": "completed"
    },
    "tags": []
   },
   "source": [
    "Now, we'll switch topics to explore how batch normalization can fix problems in training.\n",
    "\n",
    "Load the *Concrete* dataset. We won't do any standardization this time. This will make the effect of batch normalization much more apparent."
   ]
  },
  {
   "cell_type": "code",
   "execution_count": 7,
   "id": "9adf66f0",
   "metadata": {
    "execution": {
     "iopub.execute_input": "2024-01-23T02:34:44.202713Z",
     "iopub.status.busy": "2024-01-23T02:34:44.201756Z",
     "iopub.status.idle": "2024-01-23T02:34:44.221542Z",
     "shell.execute_reply": "2024-01-23T02:34:44.220206Z"
    },
    "papermill": {
     "duration": 0.02955,
     "end_time": "2024-01-23T02:34:44.223909",
     "exception": false,
     "start_time": "2024-01-23T02:34:44.194359",
     "status": "completed"
    },
    "tags": []
   },
   "outputs": [],
   "source": [
    "import pandas as pd\n",
    "\n",
    "concrete = pd.read_csv('../input/dl-course-data/concrete.csv')\n",
    "df = concrete.copy()\n",
    "\n",
    "df_train = df.sample(frac=0.7, random_state=0)\n",
    "df_valid = df.drop(df_train.index)\n",
    "\n",
    "X_train = df_train.drop('CompressiveStrength', axis=1)\n",
    "X_valid = df_valid.drop('CompressiveStrength', axis=1)\n",
    "y_train = df_train['CompressiveStrength']\n",
    "y_valid = df_valid['CompressiveStrength']\n",
    "\n",
    "input_shape = [X_train.shape[1]]"
   ]
  },
  {
   "cell_type": "markdown",
   "id": "06b82e38",
   "metadata": {
    "papermill": {
     "duration": 0.00555,
     "end_time": "2024-01-23T02:34:44.235669",
     "exception": false,
     "start_time": "2024-01-23T02:34:44.230119",
     "status": "completed"
    },
    "tags": []
   },
   "source": [
    "Run the following cell to train the network on the unstandardized *Concrete* data."
   ]
  },
  {
   "cell_type": "code",
   "execution_count": 8,
   "id": "14c637c4",
   "metadata": {
    "execution": {
     "iopub.execute_input": "2024-01-23T02:34:44.249984Z",
     "iopub.status.busy": "2024-01-23T02:34:44.249042Z",
     "iopub.status.idle": "2024-01-23T02:34:55.425555Z",
     "shell.execute_reply": "2024-01-23T02:34:55.424113Z"
    },
    "papermill": {
     "duration": 11.185904,
     "end_time": "2024-01-23T02:34:55.427997",
     "exception": false,
     "start_time": "2024-01-23T02:34:44.242093",
     "status": "completed"
    },
    "tags": []
   },
   "outputs": [
    {
     "name": "stdout",
     "output_type": "stream",
     "text": [
      "Minimum Validation Loss: nan\n"
     ]
    },
    {
     "data": {
      "image/png": "[encoded data removed]",
      "text/plain": [
       "<Figure size 640x480 with 1 Axes>"
      ]
     },
     "metadata": {},
     "output_type": "display_data"
    }
   ],
   "source": [
    "model = keras.Sequential([\n",
    "    layers.Dense(512, activation='relu', input_shape=input_shape),\n",
    "    layers.Dense(512, activation='relu'),    \n",
    "    layers.Dense(512, activation='relu'),\n",
    "    layers.Dense(1),\n",
    "])\n",
    "model.compile(\n",
    "    optimizer='sgd', # SGD is more sensitive to differences of scale\n",
    "    loss='mae',\n",
    "    metrics=['mae'],\n",
    ")\n",
    "history = model.fit(\n",
    "    X_train, y_train,\n",
    "    validation_data=(X_valid, y_valid),\n",
    "    batch_size=64,\n",
    "    epochs=100,\n",
    "    verbose=0,\n",
    ")\n",
    "\n",
    "history_df = pd.DataFrame(history.history)\n",
    "history_df.loc[0:, ['loss', 'val_loss']].plot()\n",
    "print((\"Minimum Validation Loss: {:0.4f}\").format(history_df['val_loss'].min()))"
   ]
  },
  {
   "cell_type": "markdown",
   "id": "567034d9",
   "metadata": {
    "papermill": {
     "duration": 0.005988,
     "end_time": "2024-01-23T02:34:55.440409",
     "exception": false,
     "start_time": "2024-01-23T02:34:55.434421",
     "status": "completed"
    },
    "tags": []
   },
   "source": [
    "Did you end up with a blank graph? Trying to train this network on this dataset will usually fail. Even when it does converge (due to a lucky weight initialization), it tends to converge to a very large number.\n",
    "\n",
    "# 3) Add Batch Normalization Layers\n",
    "\n",
    "Batch normalization can help correct problems like this.\n",
    "\n",
    "Add four `BatchNormalization` layers, one before each of the dense layers. (Remember to move the `input_shape` argument to the new first layer.)"
   ]
  },
  {
   "cell_type": "code",
   "execution_count": 9,
   "id": "093c974a",
   "metadata": {
    "execution": {
     "iopub.execute_input": "2024-01-23T02:34:55.454331Z",
     "iopub.status.busy": "2024-01-23T02:34:55.453930Z",
     "iopub.status.idle": "2024-01-23T02:34:55.480083Z",
     "shell.execute_reply": "2024-01-23T02:34:55.478729Z"
    },
    "lines_to_next_cell": 0,
    "papermill": {
     "duration": 0.035667,
     "end_time": "2024-01-23T02:34:55.482238",
     "exception": false,
     "start_time": "2024-01-23T02:34:55.446571",
     "status": "completed"
    },
    "tags": []
   },
   "outputs": [
    {
     "data": {
      "application/javascript": [
       "parent.postMessage({\"jupyterEvent\": \"custom.exercise_interaction\", \"data\": {\"outcomeType\": 1, \"valueTowardsCompletion\": 0.25, \"interactionType\": 1, \"questionType\": 2, \"questionId\": \"3_Q3\", \"learnToolsVersion\": \"0.3.4\", \"failureMessage\": \"\", \"exceptionClass\": \"\", \"trace\": \"\"}}, \"*\")"
      ],
      "text/plain": [
       "<IPython.core.display.Javascript object>"
      ]
     },
     "metadata": {},
     "output_type": "display_data"
    },
    {
     "data": {
      "text/markdown": [
       "<span style=\"color:#33cc33\">Correct</span>"
      ],
      "text/plain": [
       "Correct"
      ]
     },
     "metadata": {},
     "output_type": "display_data"
    }
   ],
   "source": [
    "# YOUR CODE HERE: Add a BatchNormalization layer before each Dense layer\n",
    "model = keras.Sequential([\n",
    "    layers.BatchNormalization(),\n",
    "    layers.Dense(512, activation='relu', input_shape=input_shape),\n",
    "    layers.BatchNormalization(),\n",
    "    layers.Dense(512, activation='relu'),\n",
    "    layers.BatchNormalization(),\n",
    "    layers.Dense(512, activation='relu'),\n",
    "    layers.BatchNormalization(),\n",
    "    layers.Dense(1),\n",
    "    \n",
    "])\n",
    "\n",
    "# Check your answer\n",
    "q_3.check()"
   ]
  },
  {
   "cell_type": "code",
   "execution_count": 10,
   "id": "aba35e15",
   "metadata": {
    "execution": {
     "iopub.execute_input": "2024-01-23T02:34:55.496412Z",
     "iopub.status.busy": "2024-01-23T02:34:55.496102Z",
     "iopub.status.idle": "2024-01-23T02:34:55.500516Z",
     "shell.execute_reply": "2024-01-23T02:34:55.499329Z"
    },
    "papermill": {
     "duration": 0.014394,
     "end_time": "2024-01-23T02:34:55.502944",
     "exception": false,
     "start_time": "2024-01-23T02:34:55.488550",
     "status": "completed"
    },
    "tags": []
   },
   "outputs": [],
   "source": [
    "# Lines below will give you a hint or solution code\n",
    "#q_3.hint()\n",
    "#q_3.solution()"
   ]
  },
  {
   "cell_type": "markdown",
   "id": "7bcdbffb",
   "metadata": {
    "papermill": {
     "duration": 0.005786,
     "end_time": "2024-01-23T02:34:55.515425",
     "exception": false,
     "start_time": "2024-01-23T02:34:55.509639",
     "status": "completed"
    },
    "tags": []
   },
   "source": [
    "Run the next cell to see if batch normalization will let us train the model."
   ]
  },
  {
   "cell_type": "code",
   "execution_count": 11,
   "id": "28271380",
   "metadata": {
    "execution": {
     "iopub.execute_input": "2024-01-23T02:34:55.529243Z",
     "iopub.status.busy": "2024-01-23T02:34:55.528868Z",
     "iopub.status.idle": "2024-01-23T02:35:09.452978Z",
     "shell.execute_reply": "2024-01-23T02:35:09.451379Z"
    },
    "papermill": {
     "duration": 13.933573,
     "end_time": "2024-01-23T02:35:09.455125",
     "exception": false,
     "start_time": "2024-01-23T02:34:55.521552",
     "status": "completed"
    },
    "tags": []
   },
   "outputs": [
    {
     "name": "stdout",
     "output_type": "stream",
     "text": [
      "Minimum Validation Loss: 3.8945\n"
     ]
    },
    {
     "data": {
      "image/png": "[encoded data removed]",
      "text/plain": [
       "<Figure size 640x480 with 1 Axes>"
      ]
     },
     "metadata": {},
     "output_type": "display_data"
    }
   ],
   "source": [
    "model.compile(\n",
    "    optimizer='sgd',\n",
    "    loss='mae',\n",
    "    metrics=['mae'],\n",
    ")\n",
    "EPOCHS = 100\n",
    "history = model.fit(\n",
    "    X_train, y_train,\n",
    "    validation_data=(X_valid, y_valid),\n",
    "    batch_size=64,\n",
    "    epochs=EPOCHS,\n",
    "    verbose=0,\n",
    ")\n",
    "\n",
    "history_df = pd.DataFrame(history.history)\n",
    "history_df.loc[0:, ['loss', 'val_loss']].plot()\n",
    "print((\"Minimum Validation Loss: {:0.4f}\").format(history_df['val_loss'].min()))"
   ]
  },
  {
   "cell_type": "markdown",
   "id": "2475aae0",
   "metadata": {
    "papermill": {
     "duration": 0.006308,
     "end_time": "2024-01-23T02:35:09.468382",
     "exception": false,
     "start_time": "2024-01-23T02:35:09.462074",
     "status": "completed"
    },
    "tags": []
   },
   "source": [
    "# 4) Evaluate Batch Normalization\n",
    "\n",
    "Did adding batch normalization help?"
   ]
  },
  {
   "cell_type": "code",
   "execution_count": 12,
   "id": "507a8ccc",
   "metadata": {
    "execution": {
     "iopub.execute_input": "2024-01-23T02:35:09.483358Z",
     "iopub.status.busy": "2024-01-23T02:35:09.482984Z",
     "iopub.status.idle": "2024-01-23T02:35:09.492520Z",
     "shell.execute_reply": "2024-01-23T02:35:09.491348Z"
    },
    "lines_to_next_cell": 0,
    "papermill": {
     "duration": 0.020001,
     "end_time": "2024-01-23T02:35:09.495084",
     "exception": false,
     "start_time": "2024-01-23T02:35:09.475083",
     "status": "completed"
    },
    "tags": []
   },
   "outputs": [
    {
     "data": {
      "application/javascript": [
       "parent.postMessage({\"jupyterEvent\": \"custom.exercise_interaction\", \"data\": {\"outcomeType\": 1, \"valueTowardsCompletion\": 0.25, \"interactionType\": 1, \"questionType\": 4, \"questionId\": \"4_Q4\", \"learnToolsVersion\": \"0.3.4\", \"failureMessage\": \"\", \"exceptionClass\": \"\", \"trace\": \"\"}}, \"*\")"
      ],
      "text/plain": [
       "<IPython.core.display.Javascript object>"
      ]
     },
     "metadata": {},
     "output_type": "display_data"
    },
    {
     "data": {
      "text/markdown": [
       "<span style=\"color:#33cc33\">Correct:</span> \n",
       "\n",
       "\n",
       "You can see that adding batch normalization was a big improvement on the first attempt! By adaptively scaling the data as it passes through the network, batch normalization can let you train models on difficult datasets.\n"
      ],
      "text/plain": [
       "Correct: \n",
       "\n",
       "\n",
       "You can see that adding batch normalization was a big improvement on the first attempt! By adaptively scaling the data as it passes through the network, batch normalization can let you train models on difficult datasets."
      ]
     },
     "metadata": {},
     "output_type": "display_data"
    }
   ],
   "source": [
    "# View the solution (Run this cell to receive credit!)\n",
    "q_4.check()"
   ]
  },
  {
   "cell_type": "markdown",
   "id": "aabc9bff",
   "metadata": {
    "papermill": {
     "duration": 0.006984,
     "end_time": "2024-01-23T02:35:09.509790",
     "exception": false,
     "start_time": "2024-01-23T02:35:09.502806",
     "status": "completed"
    },
    "tags": []
   },
   "source": [
    "# Keep Going #\n",
    "\n",
    "[**Create neural networks**](https://www.kaggle.com/ryanholbrook/binary-classification) for binary classification."
   ]
  },
  {
   "cell_type": "markdown",
   "id": "1020a97b",
   "metadata": {
    "papermill": {
     "duration": 0.007312,
     "end_time": "2024-01-23T02:35:09.524456",
     "exception": false,
     "start_time": "2024-01-23T02:35:09.517144",
     "status": "completed"
    },
    "tags": []
   },
   "source": [
    "---\n",
    "\n",
    "\n",
    "\n",
    "\n",
    "*Have questions or comments? Visit the [course discussion forum](https://www.kaggle.com/learn/intro-to-deep-learning/discussion) to chat with other learners.*"
   ]
  }
 ],
 "metadata": {
  "jupytext": {
   "cell_metadata_filter": "-all",
   "formats": "ipynb"
  },
  "kaggle": {
   "accelerator": "gpu",
   "dataSources": [
    {
     "datasetId": 829369,
     "sourceId": 1480608,
     "sourceType": "datasetVersion"
    }
   ],
   "isGpuEnabled": true,
   "isInternetEnabled": false,
   "language": "python",
   "sourceType": "notebook"
  },
  "kernelspec": {
   "display_name": "Python 3",
   "language": "python",
   "name": "python3"
  },
  "language_info": {
   "codemirror_mode": {
    "name": "ipython",
    "version": 3
   },
   "file_extension": ".py",
   "mimetype": "text/x-python",
   "name": "python",
   "nbconvert_exporter": "python",
   "pygments_lexer": "ipython3",
   "version": "3.10.12"
  },
  "papermill": {
   "default_parameters": {},
   "duration": 66.048575,
   "end_time": "2024-01-23T02:35:11.055674",
   "environment_variables": {},
   "exception": null,
   "input_path": "__notebook__.ipynb",
   "output_path": "__notebook__.ipynb",
   "parameters": {},
   "start_time": "2024-01-23T02:34:05.007099",
   "version": "2.4.0"
  }
 },
 "nbformat": 4,
 "nbformat_minor": 5
}
