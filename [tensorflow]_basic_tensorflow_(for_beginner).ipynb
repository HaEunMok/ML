{
  "nbformat": 4,
  "nbformat_minor": 0,
  "metadata": {
    "colab": {
      "provenance": [],
      "authorship_tag": "ABX9TyO0UFKVBNT2gBrMp1GvzLKE",
      "include_colab_link": true
    },
    "kernelspec": {
      "name": "python3",
      "display_name": "Python 3"
    },
    "language_info": {
      "name": "python"
    }
  },
  "cells": [
    {
      "cell_type": "markdown",
      "metadata": {
        "id": "view-in-github",
        "colab_type": "text"
      },
      "source": [
        "<a href=\"https://colab.research.google.com/github/HaEunMok/ML/blob/main/%5Btensorflow%5D_basic_tensorflow_(for_beginner).ipynb\" target=\"_parent\"><img src=\"https://colab.research.google.com/assets/colab-badge.svg\" alt=\"Open In Colab\"/></a>"
      ]
    },
    {
      "cell_type": "markdown",
      "source": [
        "# Keras를 사용하여 기본 사용법 익히기\n",
        "https://www.tensorflow.org/tutorials/quickstart/beginner?hl=ko\n"
      ],
      "metadata": {
        "id": "PnKCSaXs7Ebv"
      }
    },
    {
      "cell_type": "markdown",
      "source": [
        "## 1. tensorflow import하기"
      ],
      "metadata": {
        "id": "O4dpPR3W8k61"
      }
    },
    {
      "cell_type": "code",
      "execution_count": 14,
      "metadata": {
        "colab": {
          "base_uri": "https://localhost:8080/"
        },
        "id": "lAbnn43g6wEL",
        "outputId": "5e644c9b-df86-4797-ab53-7da7a9a20bfb"
      },
      "outputs": [
        {
          "output_type": "stream",
          "name": "stdout",
          "text": [
            "TensorFlow version: 2.15.0\n"
          ]
        }
      ],
      "source": [
        "import tensorflow as tf\n",
        "print(\"TensorFlow version:\", tf.__version__)"
      ]
    },
    {
      "cell_type": "markdown",
      "source": [
        "## 2. 데이터 세트 로드하기**\n",
        "\n",
        "keras의 MNIST 데이터셋을 로드하기\n",
        "\n",
        "애초에 훈련데이터와 테스트데이터가 나눠져 있음\n",
        "\n"
      ],
      "metadata": {
        "id": "NFF_bdgx8nVc"
      }
    },
    {
      "cell_type": "code",
      "source": [
        "mnist = tf.keras.datasets.mnist\n",
        "\n",
        "(x_train, y_train), (x_test, y_test) = mnist.load_data()\n",
        "x_train, x_test = x_train / 255.0, x_test / 255.0"
      ],
      "metadata": {
        "id": "pYPBmcEW7_wR"
      },
      "execution_count": 15,
      "outputs": []
    },
    {
      "cell_type": "markdown",
      "source": [
        "## 3. 신경망 훈련하기\n",
        "\n",
        "layer를 쌓아 시퀀스 모델을 생성\n",
        "\n",
        "훈련에 사용할 옵티마이저와 손실함수 선택\n",
        "\n"
      ],
      "metadata": {
        "id": "Y5Fv-zn18sPM"
      }
    },
    {
      "cell_type": "code",
      "source": [
        "model = tf.keras.models.Sequential([\n",
        "  tf.keras.layers.Flatten(input_shape=(28, 28)),\n",
        "  tf.keras.layers.Dense(128, activation='relu'),\n",
        "  tf.keras.layers.Dropout(0.2),\n",
        "  tf.keras.layers.Dense(10, activation='softmax')\n",
        "])\n",
        "\n",
        "model.compile(optimizer='adam',\n",
        "              loss='sparse_categorical_crossentropy',\n",
        "              metrics=['accuracy'])"
      ],
      "metadata": {
        "id": "14_vLfpQ8C7J"
      },
      "execution_count": 16,
      "outputs": []
    },
    {
      "cell_type": "code",
      "source": [
        "# 에측하기\n",
        "predictions = model(x_train[:1]).numpy()\n",
        "predictions"
      ],
      "metadata": {
        "colab": {
          "base_uri": "https://localhost:8080/"
        },
        "id": "cZtX69kS-Y0l",
        "outputId": "1344e48b-b087-4023-8074-9fe401a9be0e"
      },
      "execution_count": 17,
      "outputs": [
        {
          "output_type": "execute_result",
          "data": {
            "text/plain": [
              "array([[0.07619509, 0.06328992, 0.05360058, 0.08566909, 0.10235608,\n",
              "        0.09802897, 0.12770545, 0.11783875, 0.1429249 , 0.13239117]],\n",
              "      dtype=float32)"
            ]
          },
          "metadata": {},
          "execution_count": 17
        }
      ]
    },
    {
      "cell_type": "code",
      "source": [
        "# 활성화함수 사용 (softmax)\n",
        "tf.nn.softmax(predictions).numpy()"
      ],
      "metadata": {
        "colab": {
          "base_uri": "https://localhost:8080/"
        },
        "id": "fHWWn2Es-kzp",
        "outputId": "e211a5e9-2d26-4e32-cf76-bf1d7e715aed"
      },
      "execution_count": 18,
      "outputs": [
        {
          "output_type": "execute_result",
          "data": {
            "text/plain": [
              "array([[0.09760735, 0.0963558 , 0.09542668, 0.09853648, 0.10019454,\n",
              "        0.09976193, 0.10276688, 0.1017579 , 0.1043429 , 0.10324955]],\n",
              "      dtype=float32)"
            ]
          },
          "metadata": {},
          "execution_count": 18
        }
      ]
    },
    {
      "cell_type": "code",
      "source": [
        "# 손실 함수(loss function) : 로짓을 통해 손실 계산\n",
        "# fron_logits=True시, 활성화함수 전 값을 얻을 수 있음\n",
        "loss_fn = tf.keras.losses.SparseCategoricalCrossentropy(from_logits=True)"
      ],
      "metadata": {
        "id": "9HTEVfXm-ufA"
      },
      "execution_count": 19,
      "outputs": []
    },
    {
      "cell_type": "code",
      "source": [
        "loss_fn(y_train[:1], predictions).numpy()"
      ],
      "metadata": {
        "colab": {
          "base_uri": "https://localhost:8080/"
        },
        "id": "E9VZlSKv_QWj",
        "outputId": "c926dca0-e890-4405-d921-b33896551aec"
      },
      "execution_count": 20,
      "outputs": [
        {
          "output_type": "execute_result",
          "data": {
            "text/plain": [
              "2.3049686"
            ]
          },
          "metadata": {},
          "execution_count": 20
        }
      ]
    },
    {
      "cell_type": "code",
      "source": [
        "# loss 를 설정하여 모델 생성\n",
        "model.compile(optimizer='adam',\n",
        "              loss=loss_fn,\n",
        "              metrics=['accuracy'])"
      ],
      "metadata": {
        "id": "ngeUCsM-_WYL"
      },
      "execution_count": 21,
      "outputs": []
    },
    {
      "cell_type": "markdown",
      "source": [
        "## 4. 모델 정확도 평가하기\n"
      ],
      "metadata": {
        "id": "k9atF3uo84au"
      }
    },
    {
      "cell_type": "code",
      "source": [
        "# 모델을 훈련하기\n",
        "# epoch : 데이터 학습과정 횟수. 과적합과 관련 있음.\n",
        "model.fit(x_train, y_train, epochs=5)"
      ],
      "metadata": {
        "colab": {
          "base_uri": "https://localhost:8080/"
        },
        "id": "k9GDEv4g_ciJ",
        "outputId": "38250f50-0f1f-41cb-ee74-f53d885977a6"
      },
      "execution_count": 22,
      "outputs": [
        {
          "output_type": "stream",
          "name": "stdout",
          "text": [
            "Epoch 1/5\n",
            "1875/1875 [==============================] - 9s 4ms/step - loss: 0.2987 - accuracy: 0.9129\n",
            "Epoch 2/5\n",
            "1875/1875 [==============================] - 6s 3ms/step - loss: 0.1420 - accuracy: 0.9577\n",
            "Epoch 3/5\n",
            "1875/1875 [==============================] - 7s 4ms/step - loss: 0.1069 - accuracy: 0.9687\n",
            "Epoch 4/5\n",
            "1875/1875 [==============================] - 6s 3ms/step - loss: 0.0874 - accuracy: 0.9731\n",
            "Epoch 5/5\n",
            "1875/1875 [==============================] - 7s 4ms/step - loss: 0.0739 - accuracy: 0.9767\n"
          ]
        },
        {
          "output_type": "execute_result",
          "data": {
            "text/plain": [
              "<keras.src.callbacks.History at 0x7bc02ab243a0>"
            ]
          },
          "metadata": {},
          "execution_count": 22
        }
      ]
    },
    {
      "cell_type": "code",
      "source": [
        "# 모델 평가하기\n",
        "# verbose : 얼마나 상세하게 정보를 출력할 것인가 (0 또는 False: 아무런 출력이 없음. 1 또는 True: 기본 출력 레벨. 2 이상: 상세한 출력이나 디버깅 메시지를 표시할 때 사용.)\n",
        "model.evaluate(x_test,  y_test, verbose=2)"
      ],
      "metadata": {
        "colab": {
          "base_uri": "https://localhost:8080/"
        },
        "id": "jmoZP-6f_mS1",
        "outputId": "022b7358-4418-4afc-e958-c29ece7ae51d"
      },
      "execution_count": 23,
      "outputs": [
        {
          "output_type": "stream",
          "name": "stdout",
          "text": [
            "313/313 - 1s - loss: 0.0735 - accuracy: 0.9780 - 580ms/epoch - 2ms/step\n"
          ]
        },
        {
          "output_type": "execute_result",
          "data": {
            "text/plain": [
              "[0.0735381618142128, 0.9779999852180481]"
            ]
          },
          "metadata": {},
          "execution_count": 23
        }
      ]
    },
    {
      "cell_type": "code",
      "source": [
        "# 확률을 반환하도록 모델 래핑\n",
        "# 래핑 : 모델을 다른 프레임워크, 라이브러리, 인터페이스를 적용하기 위해 감싸는 것을 의미\n",
        "probability_model = tf.keras.Sequential([\n",
        "  model,\n",
        "  tf.keras.layers.Softmax()\n",
        "])"
      ],
      "metadata": {
        "id": "SRedPxZF_nt1"
      },
      "execution_count": 24,
      "outputs": []
    },
    {
      "cell_type": "code",
      "source": [
        "probability_model(x_test[:5])"
      ],
      "metadata": {
        "colab": {
          "base_uri": "https://localhost:8080/"
        },
        "id": "qr9uG967_3zE",
        "outputId": "e1bbf760-0420-4762-c989-5d24de11a275"
      },
      "execution_count": 25,
      "outputs": [
        {
          "output_type": "execute_result",
          "data": {
            "text/plain": [
              "<tf.Tensor: shape=(5, 10), dtype=float32, numpy=\n",
              "array([[0.08533858, 0.08533853, 0.08533878, 0.08534853, 0.08533853,\n",
              "        0.08533857, 0.08533853, 0.23194094, 0.08533855, 0.08534042],\n",
              "       [0.08533872, 0.08535176, 0.2319381 , 0.08533874, 0.08533872,\n",
              "        0.08533908, 0.08533873, 0.08533872, 0.08533872, 0.08533872],\n",
              "       [0.08534087, 0.23190399, 0.08534258, 0.08534113, 0.08534357,\n",
              "        0.08534094, 0.08534098, 0.08535941, 0.08534558, 0.08534095],\n",
              "       [0.23184197, 0.08534489, 0.08535141, 0.08534483, 0.0853452 ,\n",
              "        0.08534823, 0.08535456, 0.08537675, 0.08534479, 0.08534739],\n",
              "       [0.08537229, 0.08537227, 0.08537335, 0.08537228, 0.23140635,\n",
              "        0.0853723 , 0.08537244, 0.0853859 , 0.08537243, 0.08560047]],\n",
              "      dtype=float32)>"
            ]
          },
          "metadata": {},
          "execution_count": 25
        }
      ]
    }
  ]
}