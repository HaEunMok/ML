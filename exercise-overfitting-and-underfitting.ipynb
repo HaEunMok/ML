{
 "cells": [
  {
   "cell_type": "markdown",
   "id": "d250a7b7",
   "metadata": {
    "papermill": {
     "duration": 0.007801,
     "end_time": "2024-01-19T02:33:25.007815",
     "exception": false,
     "start_time": "2024-01-19T02:33:25.000014",
     "status": "completed"
    },
    "tags": []
   },
   "source": [
    "**This notebook is an exercise in the [Intro to Deep Learning](https://www.kaggle.com/learn/intro-to-deep-learning) course.  You can reference the tutorial at [this link](https://www.kaggle.com/ryanholbrook/overfitting-and-underfitting).**\n",
    "\n",
    "---\n"
   ]
  },
  {
   "cell_type": "markdown",
   "id": "04ff1efc",
   "metadata": {
    "papermill": {
     "duration": 0.006925,
     "end_time": "2024-01-19T02:33:25.022327",
     "exception": false,
     "start_time": "2024-01-19T02:33:25.015402",
     "status": "completed"
    },
    "tags": []
   },
   "source": [
    "# Introduction #\n",
    "\n",
    "In this exercise, you’ll learn how to improve training outcomes by including an early stopping callback to prevent overfitting.\n",
    "\n",
    "When you're ready, run this next cell to set everything up!"
   ]
  },
  {
   "cell_type": "code",
   "execution_count": 1,
   "id": "bfb918c6",
   "metadata": {
    "execution": {
     "iopub.execute_input": "2024-01-19T02:33:25.039579Z",
     "iopub.status.busy": "2024-01-19T02:33:25.038200Z",
     "iopub.status.idle": "2024-01-19T02:33:25.956610Z",
     "shell.execute_reply": "2024-01-19T02:33:25.955666Z"
    },
    "papermill": {
     "duration": 0.929919,
     "end_time": "2024-01-19T02:33:25.959569",
     "exception": false,
     "start_time": "2024-01-19T02:33:25.029650",
     "status": "completed"
    },
    "tags": []
   },
   "outputs": [
    {
     "name": "stderr",
     "output_type": "stream",
     "text": [
      "/tmp/ipykernel_18/1500229236.py:3: MatplotlibDeprecationWarning: The seaborn styles shipped by Matplotlib are deprecated since 3.6, as they no longer correspond to the styles shipped by seaborn. However, they will remain available as 'seaborn-v0_8-<style>'. Alternatively, directly use the seaborn API instead.\n",
      "  plt.style.use('seaborn-whitegrid')\n"
     ]
    }
   ],
   "source": [
    "# Setup plotting\n",
    "import matplotlib.pyplot as plt\n",
    "plt.style.use('seaborn-whitegrid')\n",
    "# Set Matplotlib defaults\n",
    "plt.rc('figure', autolayout=True)\n",
    "plt.rc('axes', labelweight='bold', labelsize='large',\n",
    "       titleweight='bold', titlesize=18, titlepad=10)\n",
    "plt.rc('animation', html='html5')\n",
    "\n",
    "# Setup feedback system\n",
    "from learntools.core import binder\n",
    "binder.bind(globals())\n",
    "from learntools.deep_learning_intro.ex4 import *"
   ]
  },
  {
   "cell_type": "markdown",
   "id": "c61ea566",
   "metadata": {
    "papermill": {
     "duration": 0.007241,
     "end_time": "2024-01-19T02:33:25.974481",
     "exception": false,
     "start_time": "2024-01-19T02:33:25.967240",
     "status": "completed"
    },
    "tags": []
   },
   "source": [
    "First load the *Spotify* dataset. Your task will be to predict the popularity of a song based on various audio features, like `'tempo'`, `'danceability'`, and `'mode'`."
   ]
  },
  {
   "cell_type": "code",
   "execution_count": 2,
   "id": "da6a819a",
   "metadata": {
    "execution": {
     "iopub.execute_input": "2024-01-19T02:33:25.991609Z",
     "iopub.status.busy": "2024-01-19T02:33:25.990550Z",
     "iopub.status.idle": "2024-01-19T02:33:42.054722Z",
     "shell.execute_reply": "2024-01-19T02:33:42.053269Z"
    },
    "papermill": {
     "duration": 16.075324,
     "end_time": "2024-01-19T02:33:42.057172",
     "exception": false,
     "start_time": "2024-01-19T02:33:25.981848",
     "status": "completed"
    },
    "tags": []
   },
   "outputs": [
    {
     "name": "stdout",
     "output_type": "stream",
     "text": [
      "Input shape: [18]\n"
     ]
    }
   ],
   "source": [
    "import pandas as pd\n",
    "from sklearn.preprocessing import StandardScaler, OneHotEncoder\n",
    "from sklearn.compose import make_column_transformer\n",
    "from sklearn.model_selection import GroupShuffleSplit\n",
    "\n",
    "from tensorflow import keras\n",
    "from tensorflow.keras import layers\n",
    "from tensorflow.keras import callbacks\n",
    "\n",
    "spotify = pd.read_csv('../input/dl-course-data/spotify.csv')\n",
    "\n",
    "X = spotify.copy().dropna()\n",
    "y = X.pop('track_popularity')\n",
    "artists = X['track_artist']\n",
    "\n",
    "features_num = ['danceability', 'energy', 'key', 'loudness', 'mode',\n",
    "                'speechiness', 'acousticness', 'instrumentalness',\n",
    "                'liveness', 'valence', 'tempo', 'duration_ms']\n",
    "features_cat = ['playlist_genre']\n",
    "\n",
    "preprocessor = make_column_transformer(\n",
    "    (StandardScaler(), features_num),\n",
    "    (OneHotEncoder(), features_cat),\n",
    ")\n",
    "\n",
    "# We'll do a \"grouped\" split to keep all of an artist's songs in one\n",
    "# split or the other. This is to help prevent signal leakage.\n",
    "def group_split(X, y, group, train_size=0.75):\n",
    "    splitter = GroupShuffleSplit(train_size=train_size)\n",
    "    train, test = next(splitter.split(X, y, groups=group))\n",
    "    return (X.iloc[train], X.iloc[test], y.iloc[train], y.iloc[test])\n",
    "\n",
    "X_train, X_valid, y_train, y_valid = group_split(X, y, artists)\n",
    "\n",
    "X_train = preprocessor.fit_transform(X_train)\n",
    "X_valid = preprocessor.transform(X_valid)\n",
    "y_train = y_train / 100 # popularity is on a scale 0-100, so this rescales to 0-1.\n",
    "y_valid = y_valid / 100\n",
    "\n",
    "input_shape = [X_train.shape[1]]\n",
    "print(\"Input shape: {}\".format(input_shape))"
   ]
  },
  {
   "cell_type": "markdown",
   "id": "0b68a4fe",
   "metadata": {
    "papermill": {
     "duration": 0.007432,
     "end_time": "2024-01-19T02:33:42.072446",
     "exception": false,
     "start_time": "2024-01-19T02:33:42.065014",
     "status": "completed"
    },
    "tags": []
   },
   "source": [
    "Let's start with the simplest network, a linear model. This model has low capacity.\n",
    "\n",
    "Run this next cell without any changes to train a linear model on the *Spotify* dataset."
   ]
  },
  {
   "cell_type": "code",
   "execution_count": 3,
   "id": "a1163901",
   "metadata": {
    "execution": {
     "iopub.execute_input": "2024-01-19T02:33:42.090353Z",
     "iopub.status.busy": "2024-01-19T02:33:42.089006Z",
     "iopub.status.idle": "2024-01-19T02:33:49.181909Z",
     "shell.execute_reply": "2024-01-19T02:33:49.180931Z"
    },
    "lines_to_next_cell": 0,
    "papermill": {
     "duration": 7.104217,
     "end_time": "2024-01-19T02:33:49.184181",
     "exception": false,
     "start_time": "2024-01-19T02:33:42.079964",
     "status": "completed"
    },
    "tags": []
   },
   "outputs": [
    {
     "name": "stdout",
     "output_type": "stream",
     "text": [
      "Minimum Validation Loss: 0.1951\n"
     ]
    },
    {
     "data": {
      "image/png": "[encoded data removed]",
      "text/plain": [
       "<Figure size 640x480 with 1 Axes>"
      ]
     },
     "metadata": {},
     "output_type": "display_data"
    }
   ],
   "source": [
    "model = keras.Sequential([\n",
    "    layers.Dense(1, input_shape=input_shape),\n",
    "])\n",
    "model.compile(\n",
    "    optimizer='adam',\n",
    "    loss='mae',\n",
    ")\n",
    "history = model.fit(\n",
    "    X_train, y_train,\n",
    "    validation_data=(X_valid, y_valid),\n",
    "    batch_size=512,\n",
    "    epochs=50,\n",
    "    verbose=0, # suppress output since we'll plot the curves\n",
    ")\n",
    "history_df = pd.DataFrame(history.history)\n",
    "history_df.loc[0:, ['loss', 'val_loss']].plot()\n",
    "print(\"Minimum Validation Loss: {:0.4f}\".format(history_df['val_loss'].min()));"
   ]
  },
  {
   "cell_type": "markdown",
   "id": "4121d0d1",
   "metadata": {
    "papermill": {
     "duration": 0.008287,
     "end_time": "2024-01-19T02:33:49.200880",
     "exception": false,
     "start_time": "2024-01-19T02:33:49.192593",
     "status": "completed"
    },
    "tags": []
   },
   "source": [
    "It's not uncommon for the curves to follow a \"hockey stick\" pattern like you see here. This makes the final part of training hard to see, so let's start at epoch 10 instead:"
   ]
  },
  {
   "cell_type": "code",
   "execution_count": 4,
   "id": "38870f72",
   "metadata": {
    "execution": {
     "iopub.execute_input": "2024-01-19T02:33:49.220052Z",
     "iopub.status.busy": "2024-01-19T02:33:49.218873Z",
     "iopub.status.idle": "2024-01-19T02:33:49.776488Z",
     "shell.execute_reply": "2024-01-19T02:33:49.775342Z"
    },
    "papermill": {
     "duration": 0.569615,
     "end_time": "2024-01-19T02:33:49.778947",
     "exception": false,
     "start_time": "2024-01-19T02:33:49.209332",
     "status": "completed"
    },
    "tags": []
   },
   "outputs": [
    {
     "name": "stdout",
     "output_type": "stream",
     "text": [
      "Minimum Validation Loss: 0.1951\n"
     ]
    },
    {
     "data": {
      "image/png": "[encoded data removed]",
      "text/plain": [
       "<Figure size 640x480 with 1 Axes>"
      ]
     },
     "metadata": {},
     "output_type": "display_data"
    }
   ],
   "source": [
    "# Start the plot at epoch 10\n",
    "history_df.loc[10:, ['loss', 'val_loss']].plot()\n",
    "print(\"Minimum Validation Loss: {:0.4f}\".format(history_df['val_loss'].min()));"
   ]
  },
  {
   "cell_type": "markdown",
   "id": "f10cfed7",
   "metadata": {
    "papermill": {
     "duration": 0.009098,
     "end_time": "2024-01-19T02:33:49.797622",
     "exception": false,
     "start_time": "2024-01-19T02:33:49.788524",
     "status": "completed"
    },
    "tags": []
   },
   "source": [
    "# 1) Evaluate Baseline\n",
    "\n",
    "What do you think? Would you say this model is underfitting, overfitting, just right?"
   ]
  },
  {
   "cell_type": "code",
   "execution_count": 5,
   "id": "765e333f",
   "metadata": {
    "execution": {
     "iopub.execute_input": "2024-01-19T02:33:49.817498Z",
     "iopub.status.busy": "2024-01-19T02:33:49.817063Z",
     "iopub.status.idle": "2024-01-19T02:33:49.826480Z",
     "shell.execute_reply": "2024-01-19T02:33:49.825043Z"
    },
    "papermill": {
     "duration": 0.022162,
     "end_time": "2024-01-19T02:33:49.828786",
     "exception": false,
     "start_time": "2024-01-19T02:33:49.806624",
     "status": "completed"
    },
    "tags": []
   },
   "outputs": [
    {
     "data": {
      "application/javascript": [
       "parent.postMessage({\"jupyterEvent\": \"custom.exercise_interaction\", \"data\": {\"outcomeType\": 1, \"valueTowardsCompletion\": 0.25, \"interactionType\": 1, \"questionType\": 4, \"questionId\": \"1_Q1\", \"learnToolsVersion\": \"0.3.4\", \"failureMessage\": \"\", \"exceptionClass\": \"\", \"trace\": \"\"}}, \"*\")"
      ],
      "text/plain": [
       "<IPython.core.display.Javascript object>"
      ]
     },
     "metadata": {},
     "output_type": "display_data"
    },
    {
     "data": {
      "text/markdown": [
       "<span style=\"color:#33cc33\">Correct:</span> \n",
       "\n",
       "The gap between these curves is quite small and the validation loss never increases, so it's more likely that the network is underfitting than overfitting. It would be worth experimenting with more capacity to see if that's the case."
      ],
      "text/plain": [
       "Correct: \n",
       "\n",
       "The gap between these curves is quite small and the validation loss never increases, so it's more likely that the network is underfitting than overfitting. It would be worth experimenting with more capacity to see if that's the case."
      ]
     },
     "metadata": {},
     "output_type": "display_data"
    }
   ],
   "source": [
    "# View the solution (Run this cell to receive credit!)\n",
    "q_1.check()"
   ]
  },
  {
   "cell_type": "markdown",
   "id": "cb9117aa",
   "metadata": {
    "papermill": {
     "duration": 0.008953,
     "end_time": "2024-01-19T02:33:49.846955",
     "exception": false,
     "start_time": "2024-01-19T02:33:49.838002",
     "status": "completed"
    },
    "tags": []
   },
   "source": [
    "Now let's add some capacity to our network. We'll add three hidden layers with 128 units each. Run the next cell to train the network and see the learning curves."
   ]
  },
  {
   "cell_type": "code",
   "execution_count": 6,
   "id": "013e12f0",
   "metadata": {
    "execution": {
     "iopub.execute_input": "2024-01-19T02:33:49.868369Z",
     "iopub.status.busy": "2024-01-19T02:33:49.867446Z",
     "iopub.status.idle": "2024-01-19T02:34:01.290154Z",
     "shell.execute_reply": "2024-01-19T02:34:01.289046Z"
    },
    "papermill": {
     "duration": 11.436567,
     "end_time": "2024-01-19T02:34:01.293079",
     "exception": false,
     "start_time": "2024-01-19T02:33:49.856512",
     "status": "completed"
    },
    "tags": []
   },
   "outputs": [
    {
     "name": "stdout",
     "output_type": "stream",
     "text": [
      "Epoch 1/50\n",
      "49/49 [==============================] - 1s 7ms/step - loss: 0.2218 - val_loss: 0.2029\n",
      "Epoch 2/50\n",
      "49/49 [==============================] - 0s 4ms/step - loss: 0.1998 - val_loss: 0.2011\n",
      "Epoch 3/50\n",
      "49/49 [==============================] - 0s 4ms/step - loss: 0.1959 - val_loss: 0.1974\n",
      "Epoch 4/50\n",
      "49/49 [==============================] - 0s 4ms/step - loss: 0.1926 - val_loss: 0.1961\n",
      "Epoch 5/50\n",
      "49/49 [==============================] - 0s 5ms/step - loss: 0.1906 - val_loss: 0.1964\n",
      "Epoch 6/50\n",
      "49/49 [==============================] - 0s 4ms/step - loss: 0.1888 - val_loss: 0.1971\n",
      "Epoch 7/50\n",
      "49/49 [==============================] - 0s 4ms/step - loss: 0.1876 - val_loss: 0.1952\n",
      "Epoch 8/50\n",
      "49/49 [==============================] - 0s 4ms/step - loss: 0.1864 - val_loss: 0.1963\n",
      "Epoch 9/50\n",
      "49/49 [==============================] - 0s 4ms/step - loss: 0.1869 - val_loss: 0.1956\n",
      "Epoch 10/50\n",
      "49/49 [==============================] - 0s 4ms/step - loss: 0.1854 - val_loss: 0.1966\n",
      "Epoch 11/50\n",
      "49/49 [==============================] - 0s 4ms/step - loss: 0.1845 - val_loss: 0.1970\n",
      "Epoch 12/50\n",
      "49/49 [==============================] - 0s 4ms/step - loss: 0.1847 - val_loss: 0.1962\n",
      "Epoch 13/50\n",
      "49/49 [==============================] - 0s 4ms/step - loss: 0.1843 - val_loss: 0.1972\n",
      "Epoch 14/50\n",
      "49/49 [==============================] - 0s 4ms/step - loss: 0.1825 - val_loss: 0.1958\n",
      "Epoch 15/50\n",
      "49/49 [==============================] - 0s 4ms/step - loss: 0.1810 - val_loss: 0.1966\n",
      "Epoch 16/50\n",
      "49/49 [==============================] - 0s 4ms/step - loss: 0.1804 - val_loss: 0.1986\n",
      "Epoch 17/50\n",
      "49/49 [==============================] - 0s 4ms/step - loss: 0.1800 - val_loss: 0.1961\n",
      "Epoch 18/50\n",
      "49/49 [==============================] - 0s 4ms/step - loss: 0.1794 - val_loss: 0.1963\n",
      "Epoch 19/50\n",
      "49/49 [==============================] - 0s 4ms/step - loss: 0.1787 - val_loss: 0.1966\n",
      "Epoch 20/50\n",
      "49/49 [==============================] - 0s 4ms/step - loss: 0.1783 - val_loss: 0.1965\n",
      "Epoch 21/50\n",
      "49/49 [==============================] - 0s 4ms/step - loss: 0.1779 - val_loss: 0.1971\n",
      "Epoch 22/50\n",
      "49/49 [==============================] - 0s 4ms/step - loss: 0.1775 - val_loss: 0.1965\n",
      "Epoch 23/50\n",
      "49/49 [==============================] - 0s 4ms/step - loss: 0.1766 - val_loss: 0.1992\n",
      "Epoch 24/50\n",
      "49/49 [==============================] - 0s 4ms/step - loss: 0.1763 - val_loss: 0.1973\n",
      "Epoch 25/50\n",
      "49/49 [==============================] - 0s 4ms/step - loss: 0.1764 - val_loss: 0.1980\n",
      "Epoch 26/50\n",
      "49/49 [==============================] - 0s 4ms/step - loss: 0.1751 - val_loss: 0.1974\n",
      "Epoch 27/50\n",
      "49/49 [==============================] - 0s 4ms/step - loss: 0.1749 - val_loss: 0.2013\n",
      "Epoch 28/50\n",
      "49/49 [==============================] - 0s 4ms/step - loss: 0.1753 - val_loss: 0.1994\n",
      "Epoch 29/50\n",
      "49/49 [==============================] - 0s 5ms/step - loss: 0.1738 - val_loss: 0.1985\n",
      "Epoch 30/50\n",
      "49/49 [==============================] - 0s 4ms/step - loss: 0.1742 - val_loss: 0.1998\n",
      "Epoch 31/50\n",
      "49/49 [==============================] - 0s 4ms/step - loss: 0.1729 - val_loss: 0.2008\n",
      "Epoch 32/50\n",
      "49/49 [==============================] - 0s 5ms/step - loss: 0.1734 - val_loss: 0.2000\n",
      "Epoch 33/50\n",
      "49/49 [==============================] - 0s 4ms/step - loss: 0.1723 - val_loss: 0.2002\n",
      "Epoch 34/50\n",
      "49/49 [==============================] - 0s 5ms/step - loss: 0.1725 - val_loss: 0.2011\n",
      "Epoch 35/50\n",
      "49/49 [==============================] - 0s 4ms/step - loss: 0.1710 - val_loss: 0.2032\n",
      "Epoch 36/50\n",
      "49/49 [==============================] - 0s 5ms/step - loss: 0.1710 - val_loss: 0.2001\n",
      "Epoch 37/50\n",
      "49/49 [==============================] - 0s 5ms/step - loss: 0.1695 - val_loss: 0.2004\n",
      "Epoch 38/50\n",
      "49/49 [==============================] - 0s 4ms/step - loss: 0.1702 - val_loss: 0.2007\n",
      "Epoch 39/50\n",
      "49/49 [==============================] - 0s 5ms/step - loss: 0.1692 - val_loss: 0.2011\n",
      "Epoch 40/50\n",
      "49/49 [==============================] - 0s 4ms/step - loss: 0.1688 - val_loss: 0.2009\n",
      "Epoch 41/50\n",
      "49/49 [==============================] - 0s 4ms/step - loss: 0.1677 - val_loss: 0.2034\n",
      "Epoch 42/50\n",
      "49/49 [==============================] - 0s 4ms/step - loss: 0.1677 - val_loss: 0.2043\n",
      "Epoch 43/50\n",
      "49/49 [==============================] - 0s 4ms/step - loss: 0.1675 - val_loss: 0.2031\n",
      "Epoch 44/50\n",
      "49/49 [==============================] - 0s 4ms/step - loss: 0.1675 - val_loss: 0.2041\n",
      "Epoch 45/50\n",
      "49/49 [==============================] - 0s 4ms/step - loss: 0.1676 - val_loss: 0.2037\n",
      "Epoch 46/50\n",
      "49/49 [==============================] - 0s 4ms/step - loss: 0.1670 - val_loss: 0.2027\n",
      "Epoch 47/50\n",
      "49/49 [==============================] - 0s 4ms/step - loss: 0.1665 - val_loss: 0.2028\n",
      "Epoch 48/50\n",
      "49/49 [==============================] - 0s 4ms/step - loss: 0.1660 - val_loss: 0.2025\n",
      "Epoch 49/50\n",
      "49/49 [==============================] - 0s 4ms/step - loss: 0.1649 - val_loss: 0.2034\n",
      "Epoch 50/50\n",
      "49/49 [==============================] - 0s 4ms/step - loss: 0.1653 - val_loss: 0.2040\n",
      "Minimum Validation Loss: 0.1952\n"
     ]
    },
    {
     "data": {
      "image/png": "[encoded data removed]",
      "text/plain": [
       "<Figure size 640x480 with 1 Axes>"
      ]
     },
     "metadata": {},
     "output_type": "display_data"
    }
   ],
   "source": [
    "model = keras.Sequential([\n",
    "    layers.Dense(128, activation='relu', input_shape=input_shape),\n",
    "    layers.Dense(64, activation='relu'),\n",
    "    layers.Dense(1)\n",
    "])\n",
    "model.compile(\n",
    "    optimizer='adam',\n",
    "    loss='mae',\n",
    ")\n",
    "history = model.fit(\n",
    "    X_train, y_train,\n",
    "    validation_data=(X_valid, y_valid),\n",
    "    batch_size=512,\n",
    "    epochs=50,\n",
    ")\n",
    "history_df = pd.DataFrame(history.history)\n",
    "history_df.loc[:, ['loss', 'val_loss']].plot()\n",
    "print(\"Minimum Validation Loss: {:0.4f}\".format(history_df['val_loss'].min()));"
   ]
  },
  {
   "cell_type": "markdown",
   "id": "3ae184c7",
   "metadata": {
    "papermill": {
     "duration": 0.033525,
     "end_time": "2024-01-19T02:34:01.360533",
     "exception": false,
     "start_time": "2024-01-19T02:34:01.327008",
     "status": "completed"
    },
    "tags": []
   },
   "source": [
    "# 2) Add Capacity\n",
    "\n",
    "What is your evaluation of these curves? Underfitting, overfitting, just right?"
   ]
  },
  {
   "cell_type": "code",
   "execution_count": 7,
   "id": "01fae5fc",
   "metadata": {
    "execution": {
     "iopub.execute_input": "2024-01-19T02:34:01.428907Z",
     "iopub.status.busy": "2024-01-19T02:34:01.428471Z",
     "iopub.status.idle": "2024-01-19T02:34:01.437796Z",
     "shell.execute_reply": "2024-01-19T02:34:01.436752Z"
    },
    "papermill": {
     "duration": 0.04621,
     "end_time": "2024-01-19T02:34:01.440172",
     "exception": false,
     "start_time": "2024-01-19T02:34:01.393962",
     "status": "completed"
    },
    "tags": []
   },
   "outputs": [
    {
     "data": {
      "application/javascript": [
       "parent.postMessage({\"jupyterEvent\": \"custom.exercise_interaction\", \"data\": {\"outcomeType\": 1, \"valueTowardsCompletion\": 0.25, \"interactionType\": 1, \"questionType\": 4, \"questionId\": \"2_Q2\", \"learnToolsVersion\": \"0.3.4\", \"failureMessage\": \"\", \"exceptionClass\": \"\", \"trace\": \"\"}}, \"*\")"
      ],
      "text/plain": [
       "<IPython.core.display.Javascript object>"
      ]
     },
     "metadata": {},
     "output_type": "display_data"
    },
    {
     "data": {
      "text/markdown": [
       "<span style=\"color:#33cc33\">Correct:</span> \n",
       "\n",
       "Now the validation loss begins to rise very early, while the training loss continues to decrease. This indicates that the network has begun to overfit. At this point, we would need to try something to prevent it, either by reducing the number of units or through a method like early stopping. (We'll see another in the next lesson!)"
      ],
      "text/plain": [
       "Correct: \n",
       "\n",
       "Now the validation loss begins to rise very early, while the training loss continues to decrease. This indicates that the network has begun to overfit. At this point, we would need to try something to prevent it, either by reducing the number of units or through a method like early stopping. (We'll see another in the next lesson!)"
      ]
     },
     "metadata": {},
     "output_type": "display_data"
    }
   ],
   "source": [
    "# View the solution (Run this cell to receive credit!)\n",
    "q_2.check()"
   ]
  },
  {
   "cell_type": "markdown",
   "id": "ed6dc766",
   "metadata": {
    "papermill": {
     "duration": 0.032884,
     "end_time": "2024-01-19T02:34:01.506304",
     "exception": false,
     "start_time": "2024-01-19T02:34:01.473420",
     "status": "completed"
    },
    "tags": []
   },
   "source": [
    "# 3) Define Early Stopping Callback\n",
    "\n",
    "Now define an early stopping callback that waits 5 epochs (`patience'`) for a change in validation loss of at least `0.001` (`min_delta`) and keeps the weights with the best loss (`restore_best_weights`)."
   ]
  },
  {
   "cell_type": "code",
   "execution_count": 8,
   "id": "8962fd50",
   "metadata": {
    "execution": {
     "iopub.execute_input": "2024-01-19T02:34:01.575720Z",
     "iopub.status.busy": "2024-01-19T02:34:01.574966Z",
     "iopub.status.idle": "2024-01-19T02:34:01.585894Z",
     "shell.execute_reply": "2024-01-19T02:34:01.584729Z"
    },
    "papermill": {
     "duration": 0.048265,
     "end_time": "2024-01-19T02:34:01.588520",
     "exception": false,
     "start_time": "2024-01-19T02:34:01.540255",
     "status": "completed"
    },
    "tags": []
   },
   "outputs": [
    {
     "data": {
      "application/javascript": [
       "parent.postMessage({\"jupyterEvent\": \"custom.exercise_interaction\", \"data\": {\"outcomeType\": 1, \"valueTowardsCompletion\": 0.25, \"interactionType\": 1, \"questionType\": 2, \"questionId\": \"3_Q3\", \"learnToolsVersion\": \"0.3.4\", \"failureMessage\": \"\", \"exceptionClass\": \"\", \"trace\": \"\"}}, \"*\")"
      ],
      "text/plain": [
       "<IPython.core.display.Javascript object>"
      ]
     },
     "metadata": {},
     "output_type": "display_data"
    },
    {
     "data": {
      "text/markdown": [
       "<span style=\"color:#33cc33\">Correct</span>"
      ],
      "text/plain": [
       "Correct"
      ]
     },
     "metadata": {},
     "output_type": "display_data"
    }
   ],
   "source": [
    "from tensorflow.keras import callbacks\n",
    "\n",
    "# YOUR CODE HERE: define an early stopping callback\n",
    "early_stopping = callbacks.EarlyStopping(\n",
    "    patience =5, min_delta =0.001,restore_best_weights =True)\n",
    "\n",
    "# Check your answer\n",
    "q_3.check()"
   ]
  },
  {
   "cell_type": "code",
   "execution_count": 9,
   "id": "cda9268b",
   "metadata": {
    "execution": {
     "iopub.execute_input": "2024-01-19T02:34:01.659009Z",
     "iopub.status.busy": "2024-01-19T02:34:01.658609Z",
     "iopub.status.idle": "2024-01-19T02:34:01.663420Z",
     "shell.execute_reply": "2024-01-19T02:34:01.662252Z"
    },
    "papermill": {
     "duration": 0.042766,
     "end_time": "2024-01-19T02:34:01.665851",
     "exception": false,
     "start_time": "2024-01-19T02:34:01.623085",
     "status": "completed"
    },
    "tags": []
   },
   "outputs": [],
   "source": [
    "# Lines below will give you a hint or solution code\n",
    "#q_3.hint()\n",
    "#q_3.solution()"
   ]
  },
  {
   "cell_type": "markdown",
   "id": "7be12dee",
   "metadata": {
    "papermill": {
     "duration": 0.033509,
     "end_time": "2024-01-19T02:34:01.733079",
     "exception": false,
     "start_time": "2024-01-19T02:34:01.699570",
     "status": "completed"
    },
    "tags": []
   },
   "source": [
    "Now run this cell to train the model and get the learning curves. Notice the `callbacks` argument in `model.fit`."
   ]
  },
  {
   "cell_type": "code",
   "execution_count": 10,
   "id": "1c3224ae",
   "metadata": {
    "execution": {
     "iopub.execute_input": "2024-01-19T02:34:01.862687Z",
     "iopub.status.busy": "2024-01-19T02:34:01.862255Z",
     "iopub.status.idle": "2024-01-19T02:34:05.945602Z",
     "shell.execute_reply": "2024-01-19T02:34:05.944292Z"
    },
    "papermill": {
     "duration": 4.181339,
     "end_time": "2024-01-19T02:34:05.947977",
     "exception": false,
     "start_time": "2024-01-19T02:34:01.766638",
     "status": "completed"
    },
    "tags": []
   },
   "outputs": [
    {
     "name": "stdout",
     "output_type": "stream",
     "text": [
      "Epoch 1/50\n",
      "49/49 [==============================] - 1s 7ms/step - loss: 0.2340 - val_loss: 0.2071\n",
      "Epoch 2/50\n",
      "49/49 [==============================] - 0s 5ms/step - loss: 0.2016 - val_loss: 0.1995\n",
      "Epoch 3/50\n",
      "49/49 [==============================] - 0s 4ms/step - loss: 0.1963 - val_loss: 0.1976\n",
      "Epoch 4/50\n",
      "49/49 [==============================] - 0s 4ms/step - loss: 0.1932 - val_loss: 0.1979\n",
      "Epoch 5/50\n",
      "49/49 [==============================] - 0s 4ms/step - loss: 0.1911 - val_loss: 0.1960\n",
      "Epoch 6/50\n",
      "49/49 [==============================] - 0s 5ms/step - loss: 0.1892 - val_loss: 0.1963\n",
      "Epoch 7/50\n",
      "49/49 [==============================] - 0s 4ms/step - loss: 0.1881 - val_loss: 0.1966\n",
      "Epoch 8/50\n",
      "49/49 [==============================] - 0s 4ms/step - loss: 0.1873 - val_loss: 0.1945\n",
      "Epoch 9/50\n",
      "49/49 [==============================] - 0s 4ms/step - loss: 0.1857 - val_loss: 0.1968\n",
      "Epoch 10/50\n",
      "49/49 [==============================] - 0s 4ms/step - loss: 0.1856 - val_loss: 0.1951\n",
      "Epoch 11/50\n",
      "49/49 [==============================] - 0s 4ms/step - loss: 0.1841 - val_loss: 0.1957\n",
      "Epoch 12/50\n",
      "49/49 [==============================] - 0s 4ms/step - loss: 0.1837 - val_loss: 0.1969\n",
      "Epoch 13/50\n",
      "49/49 [==============================] - 0s 4ms/step - loss: 0.1828 - val_loss: 0.1953\n",
      "Minimum Validation Loss: 0.1945\n"
     ]
    },
    {
     "data": {
      "image/png": "[encoded data removed]",
      "text/plain": [
       "<Figure size 640x480 with 1 Axes>"
      ]
     },
     "metadata": {},
     "output_type": "display_data"
    }
   ],
   "source": [
    "model = keras.Sequential([\n",
    "    layers.Dense(128, activation='relu', input_shape=input_shape),\n",
    "    layers.Dense(64, activation='relu'),    \n",
    "    layers.Dense(1)\n",
    "])\n",
    "model.compile(\n",
    "    optimizer='adam',\n",
    "    loss='mae',\n",
    ")\n",
    "history = model.fit(\n",
    "    X_train, y_train,\n",
    "    validation_data=(X_valid, y_valid),\n",
    "    batch_size=512,\n",
    "    epochs=50,\n",
    "    callbacks=[early_stopping]\n",
    ")\n",
    "history_df = pd.DataFrame(history.history)\n",
    "history_df.loc[:, ['loss', 'val_loss']].plot()\n",
    "print(\"Minimum Validation Loss: {:0.4f}\".format(history_df['val_loss'].min()));"
   ]
  },
  {
   "cell_type": "markdown",
   "id": "6cabd1d6",
   "metadata": {
    "papermill": {
     "duration": 0.041048,
     "end_time": "2024-01-19T02:34:06.029777",
     "exception": false,
     "start_time": "2024-01-19T02:34:05.988729",
     "status": "completed"
    },
    "tags": []
   },
   "source": [
    "# 4) Train and Interpret\n",
    "\n",
    "Was this an improvement compared to training without early stopping?"
   ]
  },
  {
   "cell_type": "code",
   "execution_count": 11,
   "id": "c4f1bc58",
   "metadata": {
    "execution": {
     "iopub.execute_input": "2024-01-19T02:34:06.115810Z",
     "iopub.status.busy": "2024-01-19T02:34:06.115300Z",
     "iopub.status.idle": "2024-01-19T02:34:06.128360Z",
     "shell.execute_reply": "2024-01-19T02:34:06.126880Z"
    },
    "papermill": {
     "duration": 0.061931,
     "end_time": "2024-01-19T02:34:06.132662",
     "exception": false,
     "start_time": "2024-01-19T02:34:06.070731",
     "status": "completed"
    },
    "tags": []
   },
   "outputs": [
    {
     "data": {
      "application/javascript": [
       "parent.postMessage({\"jupyterEvent\": \"custom.exercise_interaction\", \"data\": {\"outcomeType\": 1, \"valueTowardsCompletion\": 0.25, \"interactionType\": 1, \"questionType\": 4, \"questionId\": \"4_Q4\", \"learnToolsVersion\": \"0.3.4\", \"failureMessage\": \"\", \"exceptionClass\": \"\", \"trace\": \"\"}}, \"*\")"
      ],
      "text/plain": [
       "<IPython.core.display.Javascript object>"
      ]
     },
     "metadata": {},
     "output_type": "display_data"
    },
    {
     "data": {
      "text/markdown": [
       "<span style=\"color:#33cc33\">Correct:</span> \n",
       "\n",
       "The early stopping callback did stop the training once the network began overfitting. Moreover, by including `restore_best_weights` we still get to keep the model where validation loss was lowest."
      ],
      "text/plain": [
       "Correct: \n",
       "\n",
       "The early stopping callback did stop the training once the network began overfitting. Moreover, by including `restore_best_weights` we still get to keep the model where validation loss was lowest."
      ]
     },
     "metadata": {},
     "output_type": "display_data"
    }
   ],
   "source": [
    "# View the solution (Run this cell to receive credit!)\n",
    "q_4.check()"
   ]
  },
  {
   "cell_type": "markdown",
   "id": "e0edf34f",
   "metadata": {
    "papermill": {
     "duration": 0.043937,
     "end_time": "2024-01-19T02:34:06.228629",
     "exception": false,
     "start_time": "2024-01-19T02:34:06.184692",
     "status": "completed"
    },
    "tags": []
   },
   "source": [
    "If you like, try experimenting with `patience` and `min_delta` to see what difference it might make.\n",
    "\n",
    "# Keep Going #\n",
    "\n",
    "Move on to [**learn about a couple of special layers**](https://www.kaggle.com/ryanholbrook/dropout-and-batch-normalization): batch normalization and dropout."
   ]
  },
  {
   "cell_type": "markdown",
   "id": "0d570f7d",
   "metadata": {
    "papermill": {
     "duration": 0.041973,
     "end_time": "2024-01-19T02:34:06.320610",
     "exception": false,
     "start_time": "2024-01-19T02:34:06.278637",
     "status": "completed"
    },
    "tags": []
   },
   "source": [
    "---\n",
    "\n",
    "\n",
    "\n",
    "\n",
    "*Have questions or comments? Visit the [course discussion forum](https://www.kaggle.com/learn/intro-to-deep-learning/discussion) to chat with other learners.*"
   ]
  }
 ],
 "metadata": {
  "jupytext": {
   "cell_metadata_filter": "-all",
   "formats": "ipynb"
  },
  "kaggle": {
   "accelerator": "gpu",
   "dataSources": [
    {
     "datasetId": 829369,
     "sourceId": 1480608,
     "sourceType": "datasetVersion"
    }
   ],
   "isGpuEnabled": true,
   "isInternetEnabled": false,
   "language": "python",
   "sourceType": "notebook"
  },
  "kernelspec": {
   "display_name": "Python 3",
   "language": "python",
   "name": "python3"
  },
  "language_info": {
   "codemirror_mode": {
    "name": "ipython",
    "version": 3
   },
   "file_extension": ".py",
   "mimetype": "text/x-python",
   "name": "python",
   "nbconvert_exporter": "python",
   "pygments_lexer": "ipython3",
   "version": "3.10.12"
  },
  "papermill": {
   "default_parameters": {},
   "duration": 48.477285,
   "end_time": "2024-01-19T02:34:08.853389",
   "environment_variables": {},
   "exception": null,
   "input_path": "__notebook__.ipynb",
   "output_path": "__notebook__.ipynb",
   "parameters": {},
   "start_time": "2024-01-19T02:33:20.376104",
   "version": "2.4.0"
  }
 },
 "nbformat": 4,
 "nbformat_minor": 5
}
