{
  "nbformat": 4,
  "nbformat_minor": 0,
  "metadata": {
    "colab": {
      "provenance": [],
      "authorship_tag": "ABX9TyMtE9WA447GLELsw17D2rUq",
      "include_colab_link": true
    },
    "kernelspec": {
      "name": "python3",
      "display_name": "Python 3"
    },
    "language_info": {
      "name": "python"
    }
  },
  "cells": [
    {
      "cell_type": "markdown",
      "metadata": {
        "id": "view-in-github",
        "colab_type": "text"
      },
      "source": [
        "<a href=\"https://colab.research.google.com/github/HaEunMok/ML/blob/main/tensorflow.ipynb\" target=\"_parent\"><img src=\"https://colab.research.google.com/assets/colab-badge.svg\" alt=\"Open In Colab\"/></a>"
      ]
    },
    {
      "cell_type": "markdown",
      "source": [
        "# 1. Keras를 사용하여 기본 사용법 익히기\n",
        "https://www.tensorflow.org/tutorials/quickstart/beginner?hl=ko\n"
      ],
      "metadata": {
        "id": "PnKCSaXs7Ebv"
      }
    },
    {
      "cell_type": "markdown",
      "source": [
        "## 1. tensorflow import하기"
      ],
      "metadata": {
        "id": "O4dpPR3W8k61"
      }
    },
    {
      "cell_type": "code",
      "execution_count": 1,
      "metadata": {
        "colab": {
          "base_uri": "https://localhost:8080/"
        },
        "id": "lAbnn43g6wEL",
        "outputId": "d8793750-10d9-4292-ee6b-1849ed3ba544"
      },
      "outputs": [
        {
          "output_type": "stream",
          "name": "stdout",
          "text": [
            "TensorFlow version: 2.15.0\n"
          ]
        }
      ],
      "source": [
        "import tensorflow as tf\n",
        "print(\"TensorFlow version:\", tf.__version__)"
      ]
    },
    {
      "cell_type": "markdown",
      "source": [
        "## 2. 데이터 세트 로드하기**\n",
        "\n",
        "keras의 MNIST 데이터셋을 로드하기\n",
        "\n",
        "애초에 훈련데이터와 테스트데이터가 나눠져 있음\n",
        "\n"
      ],
      "metadata": {
        "id": "NFF_bdgx8nVc"
      }
    },
    {
      "cell_type": "code",
      "source": [
        "mnist = tf.keras.datasets.mnist\n",
        "\n",
        "(x_train, y_train), (x_test, y_test) = mnist.load_data()\n",
        "x_train, x_test = x_train / 255.0, x_test / 255.0"
      ],
      "metadata": {
        "colab": {
          "base_uri": "https://localhost:8080/"
        },
        "id": "pYPBmcEW7_wR",
        "outputId": "8e0c6ef8-bdfa-4edb-e733-99fa96827af0"
      },
      "execution_count": 2,
      "outputs": [
        {
          "output_type": "stream",
          "name": "stdout",
          "text": [
            "Downloading data from https://storage.googleapis.com/tensorflow/tf-keras-datasets/mnist.npz\n",
            "11490434/11490434 [==============================] - 0s 0us/step\n"
          ]
        }
      ]
    },
    {
      "cell_type": "markdown",
      "source": [
        "## 3. 신경망 훈련하기\n",
        "\n",
        "layer를 쌓아 시퀀스 모델을 생성\n",
        "\n",
        "훈련에 사용할 옵티마이저와 손실함수 선택\n",
        "\n"
      ],
      "metadata": {
        "id": "Y5Fv-zn18sPM"
      }
    },
    {
      "cell_type": "code",
      "source": [
        "model = tf.keras.models.Sequential([\n",
        "  tf.keras.layers.Flatten(input_shape=(28, 28)),\n",
        "  tf.keras.layers.Dense(128, activation='relu'),\n",
        "  tf.keras.layers.Dropout(0.2),\n",
        "  tf.keras.layers.Dense(10, activation='softmax')\n",
        "])\n",
        "\n",
        "model.compile(optimizer='adam',\n",
        "              loss='sparse_categorical_crossentropy',\n",
        "              metrics=['accuracy'])"
      ],
      "metadata": {
        "id": "14_vLfpQ8C7J"
      },
      "execution_count": 3,
      "outputs": []
    },
    {
      "cell_type": "code",
      "source": [
        "# 에측하기\n",
        "predictions = model(x_train[:1]).numpy()\n",
        "predictions"
      ],
      "metadata": {
        "colab": {
          "base_uri": "https://localhost:8080/"
        },
        "id": "cZtX69kS-Y0l",
        "outputId": "07e8dc08-e49b-4622-f2d1-527bac065ce5"
      },
      "execution_count": 4,
      "outputs": [
        {
          "output_type": "execute_result",
          "data": {
            "text/plain": [
              "array([[0.12030686, 0.13140069, 0.05216905, 0.08795399, 0.10684036,\n",
              "        0.05816129, 0.08109786, 0.06175974, 0.1850274 , 0.11528277]],\n",
              "      dtype=float32)"
            ]
          },
          "metadata": {},
          "execution_count": 4
        }
      ]
    },
    {
      "cell_type": "code",
      "source": [
        "# 활성화함수 사용 (softmax)\n",
        "tf.nn.softmax(predictions).numpy()"
      ],
      "metadata": {
        "colab": {
          "base_uri": "https://localhost:8080/"
        },
        "id": "fHWWn2Es-kzp",
        "outputId": "9cc2a72d-2a28-4dd2-c054-c0786258b265"
      },
      "execution_count": 5,
      "outputs": [
        {
          "output_type": "execute_result",
          "data": {
            "text/plain": [
              "array([[0.1019747 , 0.10311229, 0.0952578 , 0.09872832, 0.10061067,\n",
              "        0.09583033, 0.09805375, 0.09617578, 0.10879281, 0.10146365]],\n",
              "      dtype=float32)"
            ]
          },
          "metadata": {},
          "execution_count": 5
        }
      ]
    },
    {
      "cell_type": "code",
      "source": [
        "# 손실 함수(loss function) : 로짓을 통해 손실 계산\n",
        "# fron_logits=True시, 활성화함수 전 값을 얻을 수 있음\n",
        "loss_fn = tf.keras.losses.SparseCategoricalCrossentropy(from_logits=True)"
      ],
      "metadata": {
        "id": "9HTEVfXm-ufA"
      },
      "execution_count": 6,
      "outputs": []
    },
    {
      "cell_type": "code",
      "source": [
        "loss_fn(y_train[:1], predictions).numpy()"
      ],
      "metadata": {
        "colab": {
          "base_uri": "https://localhost:8080/"
        },
        "id": "E9VZlSKv_QWj",
        "outputId": "ebc7ffe5-857b-44c3-c355-7446389f9894"
      },
      "execution_count": 7,
      "outputs": [
        {
          "output_type": "execute_result",
          "data": {
            "text/plain": [
              "2.3451762"
            ]
          },
          "metadata": {},
          "execution_count": 7
        }
      ]
    },
    {
      "cell_type": "code",
      "source": [
        "# loss 를 설정하여 모델 생성\n",
        "model.compile(optimizer='adam',\n",
        "              loss=loss_fn,\n",
        "              metrics=['accuracy'])"
      ],
      "metadata": {
        "id": "ngeUCsM-_WYL"
      },
      "execution_count": 8,
      "outputs": []
    },
    {
      "cell_type": "markdown",
      "source": [
        "## 4. 모델 정확도 평가하기\n"
      ],
      "metadata": {
        "id": "k9atF3uo84au"
      }
    },
    {
      "cell_type": "code",
      "source": [
        "# 모델을 훈련하기\n",
        "# epoch : 데이터 학습과정 횟수. 과적합과 관련 있음.\n",
        "model.fit(x_train, y_train, epochs=5)"
      ],
      "metadata": {
        "colab": {
          "base_uri": "https://localhost:8080/"
        },
        "id": "k9GDEv4g_ciJ",
        "outputId": "2c52dbdd-280c-4693-eba2-f3618fa4c0af"
      },
      "execution_count": 9,
      "outputs": [
        {
          "output_type": "stream",
          "name": "stdout",
          "text": [
            "Epoch 1/5\n"
          ]
        },
        {
          "output_type": "stream",
          "name": "stderr",
          "text": [
            "/usr/local/lib/python3.10/dist-packages/keras/src/backend.py:5727: UserWarning: \"`sparse_categorical_crossentropy` received `from_logits=True`, but the `output` argument was produced by a Softmax activation and thus does not represent logits. Was this intended?\n",
            "  output, from_logits = _get_logits(\n"
          ]
        },
        {
          "output_type": "stream",
          "name": "stdout",
          "text": [
            "1875/1875 [==============================] - 14s 7ms/step - loss: 0.2937 - accuracy: 0.9148\n",
            "Epoch 2/5\n",
            "1875/1875 [==============================] - 8s 4ms/step - loss: 0.1406 - accuracy: 0.9578\n",
            "Epoch 3/5\n",
            "1875/1875 [==============================] - 6s 3ms/step - loss: 0.1055 - accuracy: 0.9679\n",
            "Epoch 4/5\n",
            "1875/1875 [==============================] - 9s 5ms/step - loss: 0.0874 - accuracy: 0.9727\n",
            "Epoch 5/5\n",
            "1875/1875 [==============================] - 7s 4ms/step - loss: 0.0760 - accuracy: 0.9761\n"
          ]
        },
        {
          "output_type": "execute_result",
          "data": {
            "text/plain": [
              "<keras.src.callbacks.History at 0x7bc02b5fcaf0>"
            ]
          },
          "metadata": {},
          "execution_count": 9
        }
      ]
    },
    {
      "cell_type": "code",
      "source": [
        "# 모델 평가하기\n",
        "# verbose : 얼마나 상세하게 정보를 출력할 것인가 (0 또는 False: 아무런 출력이 없음. 1 또는 True: 기본 출력 레벨. 2 이상: 상세한 출력이나 디버깅 메시지를 표시할 때 사용.)\n",
        "model.evaluate(x_test,  y_test, verbose=2)"
      ],
      "metadata": {
        "colab": {
          "base_uri": "https://localhost:8080/"
        },
        "id": "jmoZP-6f_mS1",
        "outputId": "32d739e2-988a-4f4f-fa1a-284ce0cdecf4"
      },
      "execution_count": 11,
      "outputs": [
        {
          "output_type": "stream",
          "name": "stdout",
          "text": [
            "313/313 - 1s - loss: 0.0723 - accuracy: 0.9775 - 648ms/epoch - 2ms/step\n"
          ]
        },
        {
          "output_type": "execute_result",
          "data": {
            "text/plain": [
              "[0.07231270521879196, 0.9775000214576721]"
            ]
          },
          "metadata": {},
          "execution_count": 11
        }
      ]
    },
    {
      "cell_type": "code",
      "source": [
        "# 확률을 반환하도록 모델 래핑\n",
        "# 래핑 : 모델을 다른 프레임워크, 라이브러리, 인터페이스를 적용하기 위해 감싸는 것을 의미\n",
        "probability_model = tf.keras.Sequential([\n",
        "  model,\n",
        "  tf.keras.layers.Softmax()\n",
        "])"
      ],
      "metadata": {
        "id": "SRedPxZF_nt1"
      },
      "execution_count": 12,
      "outputs": []
    },
    {
      "cell_type": "code",
      "source": [
        "probability_model(x_test[:5])"
      ],
      "metadata": {
        "colab": {
          "base_uri": "https://localhost:8080/"
        },
        "id": "qr9uG967_3zE",
        "outputId": "055f0e69-faa1-4aac-b076-183f85e1c20b"
      },
      "execution_count": 13,
      "outputs": [
        {
          "output_type": "execute_result",
          "data": {
            "text/plain": [
              "<tf.Tensor: shape=(5, 10), dtype=float32, numpy=\n",
              "array([[0.08533783, 0.08533777, 0.08533895, 0.08534288, 0.08533777,\n",
              "        0.08533777, 0.08533777, 0.231953  , 0.08533783, 0.08533837],\n",
              "       [0.08533736, 0.08534119, 0.23195946, 0.08533744, 0.08533736,\n",
              "        0.08533754, 0.08533737, 0.08533736, 0.08533749, 0.08533736],\n",
              "       [0.0853425 , 0.23187816, 0.0853475 , 0.08534269, 0.08534341,\n",
              "        0.08534279, 0.08534284, 0.08536966, 0.08534786, 0.08534256],\n",
              "       [0.23193884, 0.08533867, 0.08534344, 0.08533886, 0.08533868,\n",
              "        0.08533891, 0.08534095, 0.08534335, 0.08533868, 0.08533958],\n",
              "       [0.0854925 , 0.08549218, 0.08549224, 0.08549218, 0.22948913,\n",
              "        0.08549222, 0.08549397, 0.08549964, 0.08549225, 0.08656362]],\n",
              "      dtype=float32)>"
            ]
          },
          "metadata": {},
          "execution_count": 13
        }
      ]
    }
  ]
}