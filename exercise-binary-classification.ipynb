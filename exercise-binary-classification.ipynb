{
 "cells": [
  {
   "cell_type": "markdown",
   "id": "e6b131df",
   "metadata": {
    "papermill": {
     "duration": 0.00552,
     "end_time": "2024-01-24T06:06:20.708699",
     "exception": false,
     "start_time": "2024-01-24T06:06:20.703179",
     "status": "completed"
    },
    "tags": []
   },
   "source": [
    "**This notebook is an exercise in the [Intro to Deep Learning](https://www.kaggle.com/learn/intro-to-deep-learning) course.  You can reference the tutorial at [this link](https://www.kaggle.com/ryanholbrook/binary-classification).**\n",
    "\n",
    "---\n"
   ]
  },
  {
   "cell_type": "markdown",
   "id": "204961ab",
   "metadata": {
    "papermill": {
     "duration": 0.004617,
     "end_time": "2024-01-24T06:06:20.718587",
     "exception": false,
     "start_time": "2024-01-24T06:06:20.713970",
     "status": "completed"
    },
    "tags": []
   },
   "source": [
    "# Introduction #\n",
    "\n",
    "In this exercise, you'll build a model to predict hotel cancellations with a binary classifier."
   ]
  },
  {
   "cell_type": "code",
   "execution_count": 1,
   "id": "4209690e",
   "metadata": {
    "execution": {
     "iopub.execute_input": "2024-01-24T06:06:20.730704Z",
     "iopub.status.busy": "2024-01-24T06:06:20.729918Z",
     "iopub.status.idle": "2024-01-24T06:06:21.197518Z",
     "shell.execute_reply": "2024-01-24T06:06:21.196371Z"
    },
    "lines_to_next_cell": 0,
    "papermill": {
     "duration": 0.476886,
     "end_time": "2024-01-24T06:06:21.200329",
     "exception": false,
     "start_time": "2024-01-24T06:06:20.723443",
     "status": "completed"
    },
    "tags": []
   },
   "outputs": [
    {
     "name": "stderr",
     "output_type": "stream",
     "text": [
      "/tmp/ipykernel_18/3338970720.py:3: MatplotlibDeprecationWarning: The seaborn styles shipped by Matplotlib are deprecated since 3.6, as they no longer correspond to the styles shipped by seaborn. However, they will remain available as 'seaborn-v0_8-<style>'. Alternatively, directly use the seaborn API instead.\n",
      "  plt.style.use('seaborn-whitegrid')\n"
     ]
    }
   ],
   "source": [
    "# Setup plotting\n",
    "import matplotlib.pyplot as plt\n",
    "plt.style.use('seaborn-whitegrid')\n",
    "# Set Matplotlib defaults\n",
    "plt.rc('figure', autolayout=True)\n",
    "plt.rc('axes', labelweight='bold', labelsize='large',\n",
    "       titleweight='bold', titlesize=18, titlepad=10)\n",
    "plt.rc('animation', html='html5')\n",
    "\n",
    "# Setup feedback system\n",
    "from learntools.core import binder\n",
    "binder.bind(globals())\n",
    "from learntools.deep_learning_intro.ex6 import *"
   ]
  },
  {
   "cell_type": "markdown",
   "id": "3f011643",
   "metadata": {
    "papermill": {
     "duration": 0.004967,
     "end_time": "2024-01-24T06:06:21.210856",
     "exception": false,
     "start_time": "2024-01-24T06:06:21.205889",
     "status": "completed"
    },
    "tags": []
   },
   "source": [
    "First, load the *Hotel Cancellations* dataset."
   ]
  },
  {
   "cell_type": "code",
   "execution_count": 2,
   "id": "1c3f5cc6",
   "metadata": {
    "execution": {
     "iopub.execute_input": "2024-01-24T06:06:21.223417Z",
     "iopub.status.busy": "2024-01-24T06:06:21.222840Z",
     "iopub.status.idle": "2024-01-24T06:06:24.414350Z",
     "shell.execute_reply": "2024-01-24T06:06:24.413302Z"
    },
    "lines_to_next_cell": 2,
    "papermill": {
     "duration": 3.200762,
     "end_time": "2024-01-24T06:06:24.416790",
     "exception": false,
     "start_time": "2024-01-24T06:06:21.216028",
     "status": "completed"
    },
    "tags": []
   },
   "outputs": [],
   "source": [
    "import pandas as pd\n",
    "\n",
    "from sklearn.model_selection import train_test_split\n",
    "from sklearn.preprocessing import StandardScaler, OneHotEncoder\n",
    "from sklearn.impute import SimpleImputer\n",
    "from sklearn.pipeline import make_pipeline\n",
    "from sklearn.compose import make_column_transformer\n",
    "\n",
    "hotel = pd.read_csv('../input/dl-course-data/hotel.csv')\n",
    "\n",
    "X = hotel.copy()\n",
    "y = X.pop('is_canceled')\n",
    "\n",
    "X['arrival_date_month'] = \\\n",
    "    X['arrival_date_month'].map(\n",
    "        {'January':1, 'February': 2, 'March':3,\n",
    "         'April':4, 'May':5, 'June':6, 'July':7,\n",
    "         'August':8, 'September':9, 'October':10,\n",
    "         'November':11, 'December':12}\n",
    "    )\n",
    "\n",
    "features_num = [\n",
    "    \"lead_time\", \"arrival_date_week_number\",\n",
    "    \"arrival_date_day_of_month\", \"stays_in_weekend_nights\",\n",
    "    \"stays_in_week_nights\", \"adults\", \"children\", \"babies\",\n",
    "    \"is_repeated_guest\", \"previous_cancellations\",\n",
    "    \"previous_bookings_not_canceled\", \"required_car_parking_spaces\",\n",
    "    \"total_of_special_requests\", \"adr\",\n",
    "]\n",
    "features_cat = [\n",
    "    \"hotel\", \"arrival_date_month\", \"meal\",\n",
    "    \"market_segment\", \"distribution_channel\",\n",
    "    \"reserved_room_type\", \"deposit_type\", \"customer_type\",\n",
    "]\n",
    "\n",
    "transformer_num = make_pipeline(\n",
    "    SimpleImputer(strategy=\"constant\"), # there are a few missing values\n",
    "    StandardScaler(),\n",
    ")\n",
    "transformer_cat = make_pipeline(\n",
    "    SimpleImputer(strategy=\"constant\", fill_value=\"NA\"),\n",
    "    OneHotEncoder(handle_unknown='ignore'),\n",
    ")\n",
    "\n",
    "preprocessor = make_column_transformer(\n",
    "    (transformer_num, features_num),\n",
    "    (transformer_cat, features_cat),\n",
    ")\n",
    "\n",
    "# stratify - make sure classes are evenlly represented across splits\n",
    "X_train, X_valid, y_train, y_valid = \\\n",
    "    train_test_split(X, y, stratify=y, train_size=0.75)\n",
    "\n",
    "X_train = preprocessor.fit_transform(X_train)\n",
    "X_valid = preprocessor.transform(X_valid)\n",
    "\n",
    "input_shape = [X_train.shape[1]]"
   ]
  },
  {
   "cell_type": "markdown",
   "id": "13e1deb4",
   "metadata": {
    "papermill": {
     "duration": 0.004919,
     "end_time": "2024-01-24T06:06:24.426980",
     "exception": false,
     "start_time": "2024-01-24T06:06:24.422061",
     "status": "completed"
    },
    "tags": []
   },
   "source": [
    "# 1) Define Model #\n",
    "\n",
    "The model we'll use this time will have both batch normalization and dropout layers. To ease reading we've broken the diagram into blocks, but you can define it layer by layer as usual.\n",
    "\n",
    "Define a model with an architecture given by this diagram:\n",
    "\n",
    "<figure style=\"padding: 1em;\">\n",
    "<img src=\"https://storage.googleapis.com/kaggle-media/learn/images/V04o59Z.png\" width=\"400\" alt=\"Diagram of network architecture: BatchNorm, Dense, BatchNorm, Dropout, Dense, BatchNorm, Dropout, Dense.\">\n",
    "<figcaption style=\"textalign: center; font-style: italic\"><center>Diagram of a binary classifier.</center></figcaption>\n",
    "</figure>\n"
   ]
  },
  {
   "cell_type": "code",
   "execution_count": 3,
   "id": "e9de705d",
   "metadata": {
    "execution": {
     "iopub.execute_input": "2024-01-24T06:06:24.438582Z",
     "iopub.status.busy": "2024-01-24T06:06:24.438161Z",
     "iopub.status.idle": "2024-01-24T06:06:38.529916Z",
     "shell.execute_reply": "2024-01-24T06:06:38.528771Z"
    },
    "lines_to_next_cell": 2,
    "papermill": {
     "duration": 14.100306,
     "end_time": "2024-01-24T06:06:38.532231",
     "exception": false,
     "start_time": "2024-01-24T06:06:24.431925",
     "status": "completed"
    },
    "tags": []
   },
   "outputs": [
    {
     "data": {
      "application/javascript": [
       "parent.postMessage({\"jupyterEvent\": \"custom.exercise_interaction\", \"data\": {\"outcomeType\": 1, \"valueTowardsCompletion\": 0.3333333333333333, \"interactionType\": 1, \"questionType\": 2, \"questionId\": \"1_Q1\", \"learnToolsVersion\": \"0.3.4\", \"failureMessage\": \"\", \"exceptionClass\": \"\", \"trace\": \"\"}}, \"*\")"
      ],
      "text/plain": [
       "<IPython.core.display.Javascript object>"
      ]
     },
     "metadata": {},
     "output_type": "display_data"
    },
    {
     "data": {
      "text/markdown": [
       "<span style=\"color:#33cc33\">Correct</span>"
      ],
      "text/plain": [
       "Correct"
      ]
     },
     "metadata": {},
     "output_type": "display_data"
    }
   ],
   "source": [
    "from tensorflow import keras\n",
    "from tensorflow.keras import layers\n",
    "\n",
    "# YOUR CODE HERE: define the model given in the diagram\n",
    "model = keras.Sequential([\n",
    "    layers.BatchNormalization(input_shape=input_shape),\n",
    "    layers.Dense(256, activation='relu', input_shape=[33]),\n",
    "    layers.BatchNormalization(),\n",
    "    layers.Dropout(0.3),\n",
    "    layers.Dense(256, activation='relu', input_shape=[33]),\n",
    "    layers.BatchNormalization(),\n",
    "    layers.Dropout(0.3),\n",
    "    #layers.Dense(4, activation='relu'),    \n",
    "    layers.Dense(1, activation='sigmoid'),\n",
    "])\n",
    "\n",
    "# Check your answer\n",
    "q_1.check()"
   ]
  },
  {
   "cell_type": "markdown",
   "id": "54cea29b",
   "metadata": {
    "papermill": {
     "duration": 0.005404,
     "end_time": "2024-01-24T06:06:38.543273",
     "exception": false,
     "start_time": "2024-01-24T06:06:38.537869",
     "status": "completed"
    },
    "tags": []
   },
   "source": [
    "# 2) Add Optimizer, Loss, and Metric #\n",
    "\n",
    "Now compile the model with the Adam optimizer and binary versions of the cross-entropy loss and accuracy metric."
   ]
  },
  {
   "cell_type": "code",
   "execution_count": 4,
   "id": "f36a2a8c",
   "metadata": {
    "execution": {
     "iopub.execute_input": "2024-01-24T06:06:38.555998Z",
     "iopub.status.busy": "2024-01-24T06:06:38.555584Z",
     "iopub.status.idle": "2024-01-24T06:06:38.578507Z",
     "shell.execute_reply": "2024-01-24T06:06:38.577271Z"
    },
    "lines_to_next_cell": 0,
    "papermill": {
     "duration": 0.031966,
     "end_time": "2024-01-24T06:06:38.580655",
     "exception": false,
     "start_time": "2024-01-24T06:06:38.548689",
     "status": "completed"
    },
    "tags": []
   },
   "outputs": [
    {
     "data": {
      "application/javascript": [
       "parent.postMessage({\"jupyterEvent\": \"custom.exercise_interaction\", \"data\": {\"outcomeType\": 1, \"valueTowardsCompletion\": 0.3333333333333333, \"interactionType\": 1, \"questionType\": 2, \"questionId\": \"2_Q2\", \"learnToolsVersion\": \"0.3.4\", \"failureMessage\": \"\", \"exceptionClass\": \"\", \"trace\": \"\"}}, \"*\")"
      ],
      "text/plain": [
       "<IPython.core.display.Javascript object>"
      ]
     },
     "metadata": {},
     "output_type": "display_data"
    },
    {
     "data": {
      "text/markdown": [
       "<span style=\"color:#33cc33\">Correct</span>"
      ],
      "text/plain": [
       "Correct"
      ]
     },
     "metadata": {},
     "output_type": "display_data"
    }
   ],
   "source": [
    "# YOUR CODE HERE\n",
    "model.compile(\n",
    "    optimizer='adam',\n",
    "    loss='binary_crossentropy',\n",
    "    metrics=['binary_accuracy'],\n",
    ")\n",
    "# Check your answer\n",
    "q_2.check()"
   ]
  },
  {
   "cell_type": "code",
   "execution_count": 5,
   "id": "382bef84",
   "metadata": {
    "execution": {
     "iopub.execute_input": "2024-01-24T06:06:38.594170Z",
     "iopub.status.busy": "2024-01-24T06:06:38.593798Z",
     "iopub.status.idle": "2024-01-24T06:06:38.598137Z",
     "shell.execute_reply": "2024-01-24T06:06:38.597078Z"
    },
    "lines_to_next_cell": 0,
    "papermill": {
     "duration": 0.013942,
     "end_time": "2024-01-24T06:06:38.600472",
     "exception": false,
     "start_time": "2024-01-24T06:06:38.586530",
     "status": "completed"
    },
    "tags": []
   },
   "outputs": [],
   "source": [
    "# Lines below will give you a hint or solution code\n",
    "#q_2.hint()\n",
    "#q_2.solution()"
   ]
  },
  {
   "cell_type": "markdown",
   "id": "451815ab",
   "metadata": {
    "papermill": {
     "duration": 0.005637,
     "end_time": "2024-01-24T06:06:38.612533",
     "exception": false,
     "start_time": "2024-01-24T06:06:38.606896",
     "status": "completed"
    },
    "tags": []
   },
   "source": [
    "Finally, run this cell to train the model and view the learning curves. It may run for around 60 to 70 epochs, which could take a minute or two."
   ]
  },
  {
   "cell_type": "code",
   "execution_count": 6,
   "id": "bb12b2ea",
   "metadata": {
    "execution": {
     "iopub.execute_input": "2024-01-24T06:06:38.626298Z",
     "iopub.status.busy": "2024-01-24T06:06:38.625595Z",
     "iopub.status.idle": "2024-01-24T06:07:58.305158Z",
     "shell.execute_reply": "2024-01-24T06:07:58.303994Z"
    },
    "papermill": {
     "duration": 79.689274,
     "end_time": "2024-01-24T06:07:58.307588",
     "exception": false,
     "start_time": "2024-01-24T06:06:38.618314",
     "status": "completed"
    },
    "tags": []
   },
   "outputs": [
    {
     "name": "stdout",
     "output_type": "stream",
     "text": [
      "Epoch 1/200\n",
      "175/175 [==============================] - 4s 14ms/step - loss: 0.4826 - binary_accuracy: 0.7726 - val_loss: 0.4289 - val_binary_accuracy: 0.7960\n",
      "Epoch 2/200\n",
      "175/175 [==============================] - 2s 14ms/step - loss: 0.4246 - binary_accuracy: 0.8010 - val_loss: 0.4020 - val_binary_accuracy: 0.8152\n",
      "Epoch 3/200\n",
      "175/175 [==============================] - 2s 12ms/step - loss: 0.4109 - binary_accuracy: 0.8085 - val_loss: 0.3944 - val_binary_accuracy: 0.8193\n",
      "Epoch 4/200\n",
      "175/175 [==============================] - 2s 13ms/step - loss: 0.4033 - binary_accuracy: 0.8118 - val_loss: 0.3919 - val_binary_accuracy: 0.8198\n",
      "Epoch 5/200\n",
      "175/175 [==============================] - 2s 14ms/step - loss: 0.3973 - binary_accuracy: 0.8140 - val_loss: 0.3879 - val_binary_accuracy: 0.8237\n",
      "Epoch 6/200\n",
      "175/175 [==============================] - 2s 13ms/step - loss: 0.3933 - binary_accuracy: 0.8173 - val_loss: 0.3848 - val_binary_accuracy: 0.8249\n",
      "Epoch 7/200\n",
      "175/175 [==============================] - 2s 13ms/step - loss: 0.3890 - binary_accuracy: 0.8197 - val_loss: 0.3813 - val_binary_accuracy: 0.8269\n",
      "Epoch 8/200\n",
      "175/175 [==============================] - 2s 13ms/step - loss: 0.3857 - binary_accuracy: 0.8214 - val_loss: 0.3773 - val_binary_accuracy: 0.8281\n",
      "Epoch 9/200\n",
      "175/175 [==============================] - 2s 13ms/step - loss: 0.3827 - binary_accuracy: 0.8225 - val_loss: 0.3743 - val_binary_accuracy: 0.8287\n",
      "Epoch 10/200\n",
      "175/175 [==============================] - 3s 14ms/step - loss: 0.3798 - binary_accuracy: 0.8243 - val_loss: 0.3722 - val_binary_accuracy: 0.8306\n",
      "Epoch 11/200\n",
      "175/175 [==============================] - 2s 14ms/step - loss: 0.3773 - binary_accuracy: 0.8260 - val_loss: 0.3735 - val_binary_accuracy: 0.8308\n",
      "Epoch 12/200\n",
      "175/175 [==============================] - 2s 13ms/step - loss: 0.3763 - binary_accuracy: 0.8264 - val_loss: 0.3678 - val_binary_accuracy: 0.8329\n",
      "Epoch 13/200\n",
      "175/175 [==============================] - 2s 13ms/step - loss: 0.3733 - binary_accuracy: 0.8280 - val_loss: 0.3717 - val_binary_accuracy: 0.8315\n",
      "Epoch 14/200\n",
      "175/175 [==============================] - 2s 14ms/step - loss: 0.3703 - binary_accuracy: 0.8288 - val_loss: 0.3669 - val_binary_accuracy: 0.8325\n",
      "Epoch 15/200\n",
      "175/175 [==============================] - 2s 14ms/step - loss: 0.3683 - binary_accuracy: 0.8305 - val_loss: 0.3650 - val_binary_accuracy: 0.8334\n",
      "Epoch 16/200\n",
      "175/175 [==============================] - 2s 14ms/step - loss: 0.3668 - binary_accuracy: 0.8299 - val_loss: 0.3624 - val_binary_accuracy: 0.8352\n",
      "Epoch 17/200\n",
      "175/175 [==============================] - 2s 13ms/step - loss: 0.3656 - binary_accuracy: 0.8313 - val_loss: 0.3659 - val_binary_accuracy: 0.8337\n",
      "Epoch 18/200\n",
      "175/175 [==============================] - 2s 12ms/step - loss: 0.3637 - binary_accuracy: 0.8310 - val_loss: 0.3611 - val_binary_accuracy: 0.8345\n",
      "Epoch 19/200\n",
      "175/175 [==============================] - 2s 13ms/step - loss: 0.3615 - binary_accuracy: 0.8328 - val_loss: 0.3622 - val_binary_accuracy: 0.8363\n",
      "Epoch 20/200\n",
      "175/175 [==============================] - 2s 13ms/step - loss: 0.3592 - binary_accuracy: 0.8345 - val_loss: 0.3602 - val_binary_accuracy: 0.8367\n",
      "Epoch 21/200\n",
      "175/175 [==============================] - 2s 13ms/step - loss: 0.3587 - binary_accuracy: 0.8350 - val_loss: 0.3588 - val_binary_accuracy: 0.8376\n",
      "Epoch 22/200\n",
      "175/175 [==============================] - 2s 13ms/step - loss: 0.3559 - binary_accuracy: 0.8346 - val_loss: 0.3595 - val_binary_accuracy: 0.8379\n",
      "Epoch 23/200\n",
      "175/175 [==============================] - 2s 14ms/step - loss: 0.3563 - binary_accuracy: 0.8360 - val_loss: 0.3599 - val_binary_accuracy: 0.8388\n",
      "Epoch 24/200\n",
      "175/175 [==============================] - 2s 14ms/step - loss: 0.3548 - binary_accuracy: 0.8363 - val_loss: 0.3570 - val_binary_accuracy: 0.8401\n",
      "Epoch 25/200\n",
      "175/175 [==============================] - 2s 13ms/step - loss: 0.3536 - binary_accuracy: 0.8363 - val_loss: 0.3583 - val_binary_accuracy: 0.8387\n",
      "Epoch 26/200\n",
      "175/175 [==============================] - 2s 13ms/step - loss: 0.3515 - binary_accuracy: 0.8372 - val_loss: 0.3569 - val_binary_accuracy: 0.8382\n",
      "Epoch 27/200\n",
      "175/175 [==============================] - 2s 13ms/step - loss: 0.3505 - binary_accuracy: 0.8383 - val_loss: 0.3572 - val_binary_accuracy: 0.8394\n",
      "Epoch 28/200\n",
      "175/175 [==============================] - 2s 13ms/step - loss: 0.3485 - binary_accuracy: 0.8390 - val_loss: 0.3539 - val_binary_accuracy: 0.8409\n",
      "Epoch 29/200\n",
      "175/175 [==============================] - 2s 13ms/step - loss: 0.3480 - binary_accuracy: 0.8395 - val_loss: 0.3558 - val_binary_accuracy: 0.8411\n",
      "Epoch 30/200\n",
      "175/175 [==============================] - 2s 12ms/step - loss: 0.3487 - binary_accuracy: 0.8400 - val_loss: 0.3552 - val_binary_accuracy: 0.8401\n",
      "Epoch 31/200\n",
      "175/175 [==============================] - 2s 12ms/step - loss: 0.3473 - binary_accuracy: 0.8402 - val_loss: 0.3544 - val_binary_accuracy: 0.8401\n",
      "Epoch 32/200\n",
      "175/175 [==============================] - 2s 13ms/step - loss: 0.3456 - binary_accuracy: 0.8410 - val_loss: 0.3569 - val_binary_accuracy: 0.8389\n",
      "Epoch 33/200\n",
      "175/175 [==============================] - 2s 12ms/step - loss: 0.3434 - binary_accuracy: 0.8409 - val_loss: 0.3534 - val_binary_accuracy: 0.8412\n"
     ]
    },
    {
     "data": {
      "text/plain": [
       "<Axes: title={'center': 'Accuracy'}>"
      ]
     },
     "execution_count": 6,
     "metadata": {},
     "output_type": "execute_result"
    },
    {
     "data": {
      "image/png": "[encoded data removed]",
      "text/plain": [
       "<Figure size 640x480 with 1 Axes>"
      ]
     },
     "metadata": {},
     "output_type": "display_data"
    },
    {
     "data": {
      "image/png": "[encoded data removed]",
      "text/plain": [
       "<Figure size 640x480 with 1 Axes>"
      ]
     },
     "metadata": {},
     "output_type": "display_data"
    }
   ],
   "source": [
    "early_stopping = keras.callbacks.EarlyStopping(\n",
    "    patience=5,\n",
    "    min_delta=0.001,\n",
    "    restore_best_weights=True,\n",
    ")\n",
    "history = model.fit(\n",
    "    X_train, y_train,\n",
    "    validation_data=(X_valid, y_valid),\n",
    "    batch_size=512,\n",
    "    epochs=200,\n",
    "    callbacks=[early_stopping],\n",
    ")\n",
    "\n",
    "history_df = pd.DataFrame(history.history)\n",
    "history_df.loc[:, ['loss', 'val_loss']].plot(title=\"Cross-entropy\")\n",
    "history_df.loc[:, ['binary_accuracy', 'val_binary_accuracy']].plot(title=\"Accuracy\")"
   ]
  },
  {
   "cell_type": "markdown",
   "id": "2f7cdc99",
   "metadata": {
    "papermill": {
     "duration": 0.126359,
     "end_time": "2024-01-24T06:07:58.618021",
     "exception": false,
     "start_time": "2024-01-24T06:07:58.491662",
     "status": "completed"
    },
    "tags": []
   },
   "source": [
    "# 3) Train and Evaluate #\n",
    "\n",
    "\n",
    "What do you think about the learning curves? Does it look like the model underfit or overfit? Was the cross-entropy loss a good stand-in for accuracy?"
   ]
  },
  {
   "cell_type": "code",
   "execution_count": 7,
   "id": "ce0e3bb4",
   "metadata": {
    "execution": {
     "iopub.execute_input": "2024-01-24T06:07:58.871776Z",
     "iopub.status.busy": "2024-01-24T06:07:58.871379Z",
     "iopub.status.idle": "2024-01-24T06:07:58.879018Z",
     "shell.execute_reply": "2024-01-24T06:07:58.878228Z"
    },
    "papermill": {
     "duration": 0.137435,
     "end_time": "2024-01-24T06:07:58.881279",
     "exception": false,
     "start_time": "2024-01-24T06:07:58.743844",
     "status": "completed"
    },
    "tags": []
   },
   "outputs": [
    {
     "data": {
      "application/javascript": [
       "parent.postMessage({\"jupyterEvent\": \"custom.exercise_interaction\", \"data\": {\"outcomeType\": 1, \"valueTowardsCompletion\": 0.3333333333333333, \"interactionType\": 1, \"questionType\": 4, \"questionId\": \"3_Q3\", \"learnToolsVersion\": \"0.3.4\", \"failureMessage\": \"\", \"exceptionClass\": \"\", \"trace\": \"\"}}, \"*\")"
      ],
      "text/plain": [
       "<IPython.core.display.Javascript object>"
      ]
     },
     "metadata": {},
     "output_type": "display_data"
    },
    {
     "data": {
      "text/markdown": [
       "<span style=\"color:#33cc33\">Correct:</span> \n",
       "\n",
       "Though we can see the training loss continuing to fall, the early stopping callback prevented any overfitting. Moreover, the accuracy rose at the same rate as the cross-entropy fell, so it appears that minimizing cross-entropy was a good stand-in. All in all, it looks like this training was a success!"
      ],
      "text/plain": [
       "Correct: \n",
       "\n",
       "Though we can see the training loss continuing to fall, the early stopping callback prevented any overfitting. Moreover, the accuracy rose at the same rate as the cross-entropy fell, so it appears that minimizing cross-entropy was a good stand-in. All in all, it looks like this training was a success!"
      ]
     },
     "metadata": {},
     "output_type": "display_data"
    }
   ],
   "source": [
    "# View the solution (Run this cell to receive credit!)\n",
    "q_3.check()"
   ]
  },
  {
   "cell_type": "markdown",
   "id": "a2b2c1a6",
   "metadata": {
    "papermill": {
     "duration": 0.125385,
     "end_time": "2024-01-24T06:07:59.132216",
     "exception": false,
     "start_time": "2024-01-24T06:07:59.006831",
     "status": "completed"
    },
    "tags": []
   },
   "source": [
    "# Conclusion #\n",
    "\n",
    "Congratulations! You've completed Kaggle's *Introduction to Deep Learning* course!\n",
    "\n",
    "With your new skills you're ready to take on more advanced applications like computer vision and sentiment classification. What would you like to do next?\n",
    "\n",
    "Why not try one of our *Getting Started* competitions?\n",
    "\n",
    "- Classify images with TPUs in [**Petals to the Metal**](https://www.kaggle.com/c/tpu-getting-started)\n",
    "- Create art with GANs in [**I'm Something of a Painter Myself**](https://www.kaggle.com/c/gan-getting-started)\n",
    "- Classify Tweets in [**Real or Not? NLP with Disaster Tweets**](https://www.kaggle.com/c/nlp-getting-started)\n",
    "- Detect contradiction and entailment in [**Contradictory, My Dear Watson**](https://www.kaggle.com/c/contradictory-my-dear-watson)\n",
    "\n",
    "Until next time, Kagglers!"
   ]
  },
  {
   "cell_type": "markdown",
   "id": "3b3323a7",
   "metadata": {
    "papermill": {
     "duration": 0.124987,
     "end_time": "2024-01-24T06:07:59.382530",
     "exception": false,
     "start_time": "2024-01-24T06:07:59.257543",
     "status": "completed"
    },
    "tags": []
   },
   "source": [
    "---\n",
    "\n",
    "\n",
    "\n",
    "\n",
    "*Have questions or comments? Visit the [course discussion forum](https://www.kaggle.com/learn/intro-to-deep-learning/discussion) to chat with other learners.*"
   ]
  }
 ],
 "metadata": {
  "jupytext": {
   "cell_metadata_filter": "-all",
   "formats": "ipynb"
  },
  "kaggle": {
   "accelerator": "gpu",
   "dataSources": [
    {
     "datasetId": 829369,
     "sourceId": 1480608,
     "sourceType": "datasetVersion"
    }
   ],
   "isGpuEnabled": true,
   "isInternetEnabled": false,
   "language": "python",
   "sourceType": "notebook"
  },
  "kernelspec": {
   "display_name": "Python 3",
   "language": "python",
   "name": "python3"
  },
  "language_info": {
   "codemirror_mode": {
    "name": "ipython",
    "version": 3
   },
   "file_extension": ".py",
   "mimetype": "text/x-python",
   "name": "python",
   "nbconvert_exporter": "python",
   "pygments_lexer": "ipython3",
   "version": "3.10.12"
  },
  "papermill": {
   "default_parameters": {},
   "duration": 104.515361,
   "end_time": "2024-01-24T06:08:01.827444",
   "environment_variables": {},
   "exception": null,
   "input_path": "__notebook__.ipynb",
   "output_path": "__notebook__.ipynb",
   "parameters": {},
   "start_time": "2024-01-24T06:06:17.312083",
   "version": "2.4.0"
  }
 },
 "nbformat": 4,
 "nbformat_minor": 5
}
